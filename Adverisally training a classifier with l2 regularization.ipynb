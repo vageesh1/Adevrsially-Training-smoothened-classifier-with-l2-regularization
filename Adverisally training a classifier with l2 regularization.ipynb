{
  "nbformat": 4,
  "nbformat_minor": 0,
  "metadata": {
    "colab": {
      "provenance": []
    },
    "kernelspec": {
      "name": "python3",
      "display_name": "Python 3"
    },
    "language_info": {
      "name": "python"
    },
    "accelerator": "GPU",
    "gpuClass": "standard",
    "widgets": {
      "application/vnd.jupyter.widget-state+json": {
        "68d4b559ac2648ad992dbc1945640253": {
          "model_module": "@jupyter-widgets/controls",
          "model_name": "HBoxModel",
          "model_module_version": "1.5.0",
          "state": {
            "_dom_classes": [],
            "_model_module": "@jupyter-widgets/controls",
            "_model_module_version": "1.5.0",
            "_model_name": "HBoxModel",
            "_view_count": null,
            "_view_module": "@jupyter-widgets/controls",
            "_view_module_version": "1.5.0",
            "_view_name": "HBoxView",
            "box_style": "",
            "children": [
              "IPY_MODEL_25e3917bbbbf4f77ad906b7b47ae532c",
              "IPY_MODEL_23401334d0fa4d05b0f92ff72bfb9f50",
              "IPY_MODEL_2244c317d968428d9956b24c7feca6de"
            ],
            "layout": "IPY_MODEL_1624fd5bb8fc4db4a67025a14b60d8f6"
          }
        },
        "25e3917bbbbf4f77ad906b7b47ae532c": {
          "model_module": "@jupyter-widgets/controls",
          "model_name": "HTMLModel",
          "model_module_version": "1.5.0",
          "state": {
            "_dom_classes": [],
            "_model_module": "@jupyter-widgets/controls",
            "_model_module_version": "1.5.0",
            "_model_name": "HTMLModel",
            "_view_count": null,
            "_view_module": "@jupyter-widgets/controls",
            "_view_module_version": "1.5.0",
            "_view_name": "HTMLView",
            "description": "",
            "description_tooltip": null,
            "layout": "IPY_MODEL_4b32879164b84b90926f7d825cb6deac",
            "placeholder": "​",
            "style": "IPY_MODEL_8dfaa27f90924f099da70f48a9217738",
            "value": "100%"
          }
        },
        "23401334d0fa4d05b0f92ff72bfb9f50": {
          "model_module": "@jupyter-widgets/controls",
          "model_name": "FloatProgressModel",
          "model_module_version": "1.5.0",
          "state": {
            "_dom_classes": [],
            "_model_module": "@jupyter-widgets/controls",
            "_model_module_version": "1.5.0",
            "_model_name": "FloatProgressModel",
            "_view_count": null,
            "_view_module": "@jupyter-widgets/controls",
            "_view_module_version": "1.5.0",
            "_view_name": "ProgressView",
            "bar_style": "success",
            "description": "",
            "description_tooltip": null,
            "layout": "IPY_MODEL_7e2fb5cf6ebd480dba2600678a13e55b",
            "max": 170498071,
            "min": 0,
            "orientation": "horizontal",
            "style": "IPY_MODEL_b475cd485d464717a1dac89bfd14ac12",
            "value": 170498071
          }
        },
        "2244c317d968428d9956b24c7feca6de": {
          "model_module": "@jupyter-widgets/controls",
          "model_name": "HTMLModel",
          "model_module_version": "1.5.0",
          "state": {
            "_dom_classes": [],
            "_model_module": "@jupyter-widgets/controls",
            "_model_module_version": "1.5.0",
            "_model_name": "HTMLModel",
            "_view_count": null,
            "_view_module": "@jupyter-widgets/controls",
            "_view_module_version": "1.5.0",
            "_view_name": "HTMLView",
            "description": "",
            "description_tooltip": null,
            "layout": "IPY_MODEL_debecb8bb69d40f18909fcfd1fa5c85d",
            "placeholder": "​",
            "style": "IPY_MODEL_3bb42e4552aa4636a234bb2862c87e85",
            "value": " 170498071/170498071 [00:01&lt;00:00, 104952263.91it/s]"
          }
        },
        "1624fd5bb8fc4db4a67025a14b60d8f6": {
          "model_module": "@jupyter-widgets/base",
          "model_name": "LayoutModel",
          "model_module_version": "1.2.0",
          "state": {
            "_model_module": "@jupyter-widgets/base",
            "_model_module_version": "1.2.0",
            "_model_name": "LayoutModel",
            "_view_count": null,
            "_view_module": "@jupyter-widgets/base",
            "_view_module_version": "1.2.0",
            "_view_name": "LayoutView",
            "align_content": null,
            "align_items": null,
            "align_self": null,
            "border": null,
            "bottom": null,
            "display": null,
            "flex": null,
            "flex_flow": null,
            "grid_area": null,
            "grid_auto_columns": null,
            "grid_auto_flow": null,
            "grid_auto_rows": null,
            "grid_column": null,
            "grid_gap": null,
            "grid_row": null,
            "grid_template_areas": null,
            "grid_template_columns": null,
            "grid_template_rows": null,
            "height": null,
            "justify_content": null,
            "justify_items": null,
            "left": null,
            "margin": null,
            "max_height": null,
            "max_width": null,
            "min_height": null,
            "min_width": null,
            "object_fit": null,
            "object_position": null,
            "order": null,
            "overflow": null,
            "overflow_x": null,
            "overflow_y": null,
            "padding": null,
            "right": null,
            "top": null,
            "visibility": null,
            "width": null
          }
        },
        "4b32879164b84b90926f7d825cb6deac": {
          "model_module": "@jupyter-widgets/base",
          "model_name": "LayoutModel",
          "model_module_version": "1.2.0",
          "state": {
            "_model_module": "@jupyter-widgets/base",
            "_model_module_version": "1.2.0",
            "_model_name": "LayoutModel",
            "_view_count": null,
            "_view_module": "@jupyter-widgets/base",
            "_view_module_version": "1.2.0",
            "_view_name": "LayoutView",
            "align_content": null,
            "align_items": null,
            "align_self": null,
            "border": null,
            "bottom": null,
            "display": null,
            "flex": null,
            "flex_flow": null,
            "grid_area": null,
            "grid_auto_columns": null,
            "grid_auto_flow": null,
            "grid_auto_rows": null,
            "grid_column": null,
            "grid_gap": null,
            "grid_row": null,
            "grid_template_areas": null,
            "grid_template_columns": null,
            "grid_template_rows": null,
            "height": null,
            "justify_content": null,
            "justify_items": null,
            "left": null,
            "margin": null,
            "max_height": null,
            "max_width": null,
            "min_height": null,
            "min_width": null,
            "object_fit": null,
            "object_position": null,
            "order": null,
            "overflow": null,
            "overflow_x": null,
            "overflow_y": null,
            "padding": null,
            "right": null,
            "top": null,
            "visibility": null,
            "width": null
          }
        },
        "8dfaa27f90924f099da70f48a9217738": {
          "model_module": "@jupyter-widgets/controls",
          "model_name": "DescriptionStyleModel",
          "model_module_version": "1.5.0",
          "state": {
            "_model_module": "@jupyter-widgets/controls",
            "_model_module_version": "1.5.0",
            "_model_name": "DescriptionStyleModel",
            "_view_count": null,
            "_view_module": "@jupyter-widgets/base",
            "_view_module_version": "1.2.0",
            "_view_name": "StyleView",
            "description_width": ""
          }
        },
        "7e2fb5cf6ebd480dba2600678a13e55b": {
          "model_module": "@jupyter-widgets/base",
          "model_name": "LayoutModel",
          "model_module_version": "1.2.0",
          "state": {
            "_model_module": "@jupyter-widgets/base",
            "_model_module_version": "1.2.0",
            "_model_name": "LayoutModel",
            "_view_count": null,
            "_view_module": "@jupyter-widgets/base",
            "_view_module_version": "1.2.0",
            "_view_name": "LayoutView",
            "align_content": null,
            "align_items": null,
            "align_self": null,
            "border": null,
            "bottom": null,
            "display": null,
            "flex": null,
            "flex_flow": null,
            "grid_area": null,
            "grid_auto_columns": null,
            "grid_auto_flow": null,
            "grid_auto_rows": null,
            "grid_column": null,
            "grid_gap": null,
            "grid_row": null,
            "grid_template_areas": null,
            "grid_template_columns": null,
            "grid_template_rows": null,
            "height": null,
            "justify_content": null,
            "justify_items": null,
            "left": null,
            "margin": null,
            "max_height": null,
            "max_width": null,
            "min_height": null,
            "min_width": null,
            "object_fit": null,
            "object_position": null,
            "order": null,
            "overflow": null,
            "overflow_x": null,
            "overflow_y": null,
            "padding": null,
            "right": null,
            "top": null,
            "visibility": null,
            "width": null
          }
        },
        "b475cd485d464717a1dac89bfd14ac12": {
          "model_module": "@jupyter-widgets/controls",
          "model_name": "ProgressStyleModel",
          "model_module_version": "1.5.0",
          "state": {
            "_model_module": "@jupyter-widgets/controls",
            "_model_module_version": "1.5.0",
            "_model_name": "ProgressStyleModel",
            "_view_count": null,
            "_view_module": "@jupyter-widgets/base",
            "_view_module_version": "1.2.0",
            "_view_name": "StyleView",
            "bar_color": null,
            "description_width": ""
          }
        },
        "debecb8bb69d40f18909fcfd1fa5c85d": {
          "model_module": "@jupyter-widgets/base",
          "model_name": "LayoutModel",
          "model_module_version": "1.2.0",
          "state": {
            "_model_module": "@jupyter-widgets/base",
            "_model_module_version": "1.2.0",
            "_model_name": "LayoutModel",
            "_view_count": null,
            "_view_module": "@jupyter-widgets/base",
            "_view_module_version": "1.2.0",
            "_view_name": "LayoutView",
            "align_content": null,
            "align_items": null,
            "align_self": null,
            "border": null,
            "bottom": null,
            "display": null,
            "flex": null,
            "flex_flow": null,
            "grid_area": null,
            "grid_auto_columns": null,
            "grid_auto_flow": null,
            "grid_auto_rows": null,
            "grid_column": null,
            "grid_gap": null,
            "grid_row": null,
            "grid_template_areas": null,
            "grid_template_columns": null,
            "grid_template_rows": null,
            "height": null,
            "justify_content": null,
            "justify_items": null,
            "left": null,
            "margin": null,
            "max_height": null,
            "max_width": null,
            "min_height": null,
            "min_width": null,
            "object_fit": null,
            "object_position": null,
            "order": null,
            "overflow": null,
            "overflow_x": null,
            "overflow_y": null,
            "padding": null,
            "right": null,
            "top": null,
            "visibility": null,
            "width": null
          }
        },
        "3bb42e4552aa4636a234bb2862c87e85": {
          "model_module": "@jupyter-widgets/controls",
          "model_name": "DescriptionStyleModel",
          "model_module_version": "1.5.0",
          "state": {
            "_model_module": "@jupyter-widgets/controls",
            "_model_module_version": "1.5.0",
            "_model_name": "DescriptionStyleModel",
            "_view_count": null,
            "_view_module": "@jupyter-widgets/base",
            "_view_module_version": "1.2.0",
            "_view_name": "StyleView",
            "description_width": ""
          }
        },
        "b4d7a158b0524e77b5d0979b42493f95": {
          "model_module": "@jupyter-widgets/controls",
          "model_name": "HBoxModel",
          "model_module_version": "1.5.0",
          "state": {
            "_dom_classes": [],
            "_model_module": "@jupyter-widgets/controls",
            "_model_module_version": "1.5.0",
            "_model_name": "HBoxModel",
            "_view_count": null,
            "_view_module": "@jupyter-widgets/controls",
            "_view_module_version": "1.5.0",
            "_view_name": "HBoxView",
            "box_style": "",
            "children": [
              "IPY_MODEL_03dc7b82cf9b4e7fb5bfd6b32ac7ba62",
              "IPY_MODEL_cb2b2c6c118844c68f002b166f653281",
              "IPY_MODEL_2b0fded9e0ca4dc0bbbccf011cc11558"
            ],
            "layout": "IPY_MODEL_99600245504849bca96820210eb40570"
          }
        },
        "03dc7b82cf9b4e7fb5bfd6b32ac7ba62": {
          "model_module": "@jupyter-widgets/controls",
          "model_name": "HTMLModel",
          "model_module_version": "1.5.0",
          "state": {
            "_dom_classes": [],
            "_model_module": "@jupyter-widgets/controls",
            "_model_module_version": "1.5.0",
            "_model_name": "HTMLModel",
            "_view_count": null,
            "_view_module": "@jupyter-widgets/controls",
            "_view_module_version": "1.5.0",
            "_view_name": "HTMLView",
            "description": "",
            "description_tooltip": null,
            "layout": "IPY_MODEL_899b8890009942b280a6e36b5c8cc730",
            "placeholder": "​",
            "style": "IPY_MODEL_d64e8a3fe13e45eea0d43c65720ebd35",
            "value": "100%"
          }
        },
        "cb2b2c6c118844c68f002b166f653281": {
          "model_module": "@jupyter-widgets/controls",
          "model_name": "FloatProgressModel",
          "model_module_version": "1.5.0",
          "state": {
            "_dom_classes": [],
            "_model_module": "@jupyter-widgets/controls",
            "_model_module_version": "1.5.0",
            "_model_name": "FloatProgressModel",
            "_view_count": null,
            "_view_module": "@jupyter-widgets/controls",
            "_view_module_version": "1.5.0",
            "_view_name": "ProgressView",
            "bar_style": "success",
            "description": "",
            "description_tooltip": null,
            "layout": "IPY_MODEL_079fbef7cda74c6b8f84a99daba031fc",
            "max": 9912422,
            "min": 0,
            "orientation": "horizontal",
            "style": "IPY_MODEL_ab6e3a5af67641d5983157f5935fa4d9",
            "value": 9912422
          }
        },
        "2b0fded9e0ca4dc0bbbccf011cc11558": {
          "model_module": "@jupyter-widgets/controls",
          "model_name": "HTMLModel",
          "model_module_version": "1.5.0",
          "state": {
            "_dom_classes": [],
            "_model_module": "@jupyter-widgets/controls",
            "_model_module_version": "1.5.0",
            "_model_name": "HTMLModel",
            "_view_count": null,
            "_view_module": "@jupyter-widgets/controls",
            "_view_module_version": "1.5.0",
            "_view_name": "HTMLView",
            "description": "",
            "description_tooltip": null,
            "layout": "IPY_MODEL_e7cca10b5a2946dd94f671bcfb1699ab",
            "placeholder": "​",
            "style": "IPY_MODEL_e80aef2749fd4f118d815cbc068f5b7f",
            "value": " 9912422/9912422 [00:00&lt;00:00, 22884152.95it/s]"
          }
        },
        "99600245504849bca96820210eb40570": {
          "model_module": "@jupyter-widgets/base",
          "model_name": "LayoutModel",
          "model_module_version": "1.2.0",
          "state": {
            "_model_module": "@jupyter-widgets/base",
            "_model_module_version": "1.2.0",
            "_model_name": "LayoutModel",
            "_view_count": null,
            "_view_module": "@jupyter-widgets/base",
            "_view_module_version": "1.2.0",
            "_view_name": "LayoutView",
            "align_content": null,
            "align_items": null,
            "align_self": null,
            "border": null,
            "bottom": null,
            "display": null,
            "flex": null,
            "flex_flow": null,
            "grid_area": null,
            "grid_auto_columns": null,
            "grid_auto_flow": null,
            "grid_auto_rows": null,
            "grid_column": null,
            "grid_gap": null,
            "grid_row": null,
            "grid_template_areas": null,
            "grid_template_columns": null,
            "grid_template_rows": null,
            "height": null,
            "justify_content": null,
            "justify_items": null,
            "left": null,
            "margin": null,
            "max_height": null,
            "max_width": null,
            "min_height": null,
            "min_width": null,
            "object_fit": null,
            "object_position": null,
            "order": null,
            "overflow": null,
            "overflow_x": null,
            "overflow_y": null,
            "padding": null,
            "right": null,
            "top": null,
            "visibility": null,
            "width": null
          }
        },
        "899b8890009942b280a6e36b5c8cc730": {
          "model_module": "@jupyter-widgets/base",
          "model_name": "LayoutModel",
          "model_module_version": "1.2.0",
          "state": {
            "_model_module": "@jupyter-widgets/base",
            "_model_module_version": "1.2.0",
            "_model_name": "LayoutModel",
            "_view_count": null,
            "_view_module": "@jupyter-widgets/base",
            "_view_module_version": "1.2.0",
            "_view_name": "LayoutView",
            "align_content": null,
            "align_items": null,
            "align_self": null,
            "border": null,
            "bottom": null,
            "display": null,
            "flex": null,
            "flex_flow": null,
            "grid_area": null,
            "grid_auto_columns": null,
            "grid_auto_flow": null,
            "grid_auto_rows": null,
            "grid_column": null,
            "grid_gap": null,
            "grid_row": null,
            "grid_template_areas": null,
            "grid_template_columns": null,
            "grid_template_rows": null,
            "height": null,
            "justify_content": null,
            "justify_items": null,
            "left": null,
            "margin": null,
            "max_height": null,
            "max_width": null,
            "min_height": null,
            "min_width": null,
            "object_fit": null,
            "object_position": null,
            "order": null,
            "overflow": null,
            "overflow_x": null,
            "overflow_y": null,
            "padding": null,
            "right": null,
            "top": null,
            "visibility": null,
            "width": null
          }
        },
        "d64e8a3fe13e45eea0d43c65720ebd35": {
          "model_module": "@jupyter-widgets/controls",
          "model_name": "DescriptionStyleModel",
          "model_module_version": "1.5.0",
          "state": {
            "_model_module": "@jupyter-widgets/controls",
            "_model_module_version": "1.5.0",
            "_model_name": "DescriptionStyleModel",
            "_view_count": null,
            "_view_module": "@jupyter-widgets/base",
            "_view_module_version": "1.2.0",
            "_view_name": "StyleView",
            "description_width": ""
          }
        },
        "079fbef7cda74c6b8f84a99daba031fc": {
          "model_module": "@jupyter-widgets/base",
          "model_name": "LayoutModel",
          "model_module_version": "1.2.0",
          "state": {
            "_model_module": "@jupyter-widgets/base",
            "_model_module_version": "1.2.0",
            "_model_name": "LayoutModel",
            "_view_count": null,
            "_view_module": "@jupyter-widgets/base",
            "_view_module_version": "1.2.0",
            "_view_name": "LayoutView",
            "align_content": null,
            "align_items": null,
            "align_self": null,
            "border": null,
            "bottom": null,
            "display": null,
            "flex": null,
            "flex_flow": null,
            "grid_area": null,
            "grid_auto_columns": null,
            "grid_auto_flow": null,
            "grid_auto_rows": null,
            "grid_column": null,
            "grid_gap": null,
            "grid_row": null,
            "grid_template_areas": null,
            "grid_template_columns": null,
            "grid_template_rows": null,
            "height": null,
            "justify_content": null,
            "justify_items": null,
            "left": null,
            "margin": null,
            "max_height": null,
            "max_width": null,
            "min_height": null,
            "min_width": null,
            "object_fit": null,
            "object_position": null,
            "order": null,
            "overflow": null,
            "overflow_x": null,
            "overflow_y": null,
            "padding": null,
            "right": null,
            "top": null,
            "visibility": null,
            "width": null
          }
        },
        "ab6e3a5af67641d5983157f5935fa4d9": {
          "model_module": "@jupyter-widgets/controls",
          "model_name": "ProgressStyleModel",
          "model_module_version": "1.5.0",
          "state": {
            "_model_module": "@jupyter-widgets/controls",
            "_model_module_version": "1.5.0",
            "_model_name": "ProgressStyleModel",
            "_view_count": null,
            "_view_module": "@jupyter-widgets/base",
            "_view_module_version": "1.2.0",
            "_view_name": "StyleView",
            "bar_color": null,
            "description_width": ""
          }
        },
        "e7cca10b5a2946dd94f671bcfb1699ab": {
          "model_module": "@jupyter-widgets/base",
          "model_name": "LayoutModel",
          "model_module_version": "1.2.0",
          "state": {
            "_model_module": "@jupyter-widgets/base",
            "_model_module_version": "1.2.0",
            "_model_name": "LayoutModel",
            "_view_count": null,
            "_view_module": "@jupyter-widgets/base",
            "_view_module_version": "1.2.0",
            "_view_name": "LayoutView",
            "align_content": null,
            "align_items": null,
            "align_self": null,
            "border": null,
            "bottom": null,
            "display": null,
            "flex": null,
            "flex_flow": null,
            "grid_area": null,
            "grid_auto_columns": null,
            "grid_auto_flow": null,
            "grid_auto_rows": null,
            "grid_column": null,
            "grid_gap": null,
            "grid_row": null,
            "grid_template_areas": null,
            "grid_template_columns": null,
            "grid_template_rows": null,
            "height": null,
            "justify_content": null,
            "justify_items": null,
            "left": null,
            "margin": null,
            "max_height": null,
            "max_width": null,
            "min_height": null,
            "min_width": null,
            "object_fit": null,
            "object_position": null,
            "order": null,
            "overflow": null,
            "overflow_x": null,
            "overflow_y": null,
            "padding": null,
            "right": null,
            "top": null,
            "visibility": null,
            "width": null
          }
        },
        "e80aef2749fd4f118d815cbc068f5b7f": {
          "model_module": "@jupyter-widgets/controls",
          "model_name": "DescriptionStyleModel",
          "model_module_version": "1.5.0",
          "state": {
            "_model_module": "@jupyter-widgets/controls",
            "_model_module_version": "1.5.0",
            "_model_name": "DescriptionStyleModel",
            "_view_count": null,
            "_view_module": "@jupyter-widgets/base",
            "_view_module_version": "1.2.0",
            "_view_name": "StyleView",
            "description_width": ""
          }
        },
        "d37fc75da8014991be19cbe7d658aa61": {
          "model_module": "@jupyter-widgets/controls",
          "model_name": "HBoxModel",
          "model_module_version": "1.5.0",
          "state": {
            "_dom_classes": [],
            "_model_module": "@jupyter-widgets/controls",
            "_model_module_version": "1.5.0",
            "_model_name": "HBoxModel",
            "_view_count": null,
            "_view_module": "@jupyter-widgets/controls",
            "_view_module_version": "1.5.0",
            "_view_name": "HBoxView",
            "box_style": "",
            "children": [
              "IPY_MODEL_204afd1775df414b8c0549f3ec4a6e15",
              "IPY_MODEL_d57983dd7a614697a1f761c75b419710",
              "IPY_MODEL_9182b0c3082244b3992030b8f746f881"
            ],
            "layout": "IPY_MODEL_5389cea065174acab3129a0dc264ac2b"
          }
        },
        "204afd1775df414b8c0549f3ec4a6e15": {
          "model_module": "@jupyter-widgets/controls",
          "model_name": "HTMLModel",
          "model_module_version": "1.5.0",
          "state": {
            "_dom_classes": [],
            "_model_module": "@jupyter-widgets/controls",
            "_model_module_version": "1.5.0",
            "_model_name": "HTMLModel",
            "_view_count": null,
            "_view_module": "@jupyter-widgets/controls",
            "_view_module_version": "1.5.0",
            "_view_name": "HTMLView",
            "description": "",
            "description_tooltip": null,
            "layout": "IPY_MODEL_f7cca2518a9a4fbba2113a4b2f3b0527",
            "placeholder": "​",
            "style": "IPY_MODEL_f659a656a6f2492d852d17335c715567",
            "value": "100%"
          }
        },
        "d57983dd7a614697a1f761c75b419710": {
          "model_module": "@jupyter-widgets/controls",
          "model_name": "FloatProgressModel",
          "model_module_version": "1.5.0",
          "state": {
            "_dom_classes": [],
            "_model_module": "@jupyter-widgets/controls",
            "_model_module_version": "1.5.0",
            "_model_name": "FloatProgressModel",
            "_view_count": null,
            "_view_module": "@jupyter-widgets/controls",
            "_view_module_version": "1.5.0",
            "_view_name": "ProgressView",
            "bar_style": "success",
            "description": "",
            "description_tooltip": null,
            "layout": "IPY_MODEL_12a31a3f6e4048e09328a54834878c26",
            "max": 28881,
            "min": 0,
            "orientation": "horizontal",
            "style": "IPY_MODEL_378fc7a1c5764f368f51ff6b5322fe04",
            "value": 28881
          }
        },
        "9182b0c3082244b3992030b8f746f881": {
          "model_module": "@jupyter-widgets/controls",
          "model_name": "HTMLModel",
          "model_module_version": "1.5.0",
          "state": {
            "_dom_classes": [],
            "_model_module": "@jupyter-widgets/controls",
            "_model_module_version": "1.5.0",
            "_model_name": "HTMLModel",
            "_view_count": null,
            "_view_module": "@jupyter-widgets/controls",
            "_view_module_version": "1.5.0",
            "_view_name": "HTMLView",
            "description": "",
            "description_tooltip": null,
            "layout": "IPY_MODEL_8c9672f78ff94f3a80b16ccebb8bcb0b",
            "placeholder": "​",
            "style": "IPY_MODEL_6758644fba174402b57d687f92251390",
            "value": " 28881/28881 [00:00&lt;00:00, 1817108.09it/s]"
          }
        },
        "5389cea065174acab3129a0dc264ac2b": {
          "model_module": "@jupyter-widgets/base",
          "model_name": "LayoutModel",
          "model_module_version": "1.2.0",
          "state": {
            "_model_module": "@jupyter-widgets/base",
            "_model_module_version": "1.2.0",
            "_model_name": "LayoutModel",
            "_view_count": null,
            "_view_module": "@jupyter-widgets/base",
            "_view_module_version": "1.2.0",
            "_view_name": "LayoutView",
            "align_content": null,
            "align_items": null,
            "align_self": null,
            "border": null,
            "bottom": null,
            "display": null,
            "flex": null,
            "flex_flow": null,
            "grid_area": null,
            "grid_auto_columns": null,
            "grid_auto_flow": null,
            "grid_auto_rows": null,
            "grid_column": null,
            "grid_gap": null,
            "grid_row": null,
            "grid_template_areas": null,
            "grid_template_columns": null,
            "grid_template_rows": null,
            "height": null,
            "justify_content": null,
            "justify_items": null,
            "left": null,
            "margin": null,
            "max_height": null,
            "max_width": null,
            "min_height": null,
            "min_width": null,
            "object_fit": null,
            "object_position": null,
            "order": null,
            "overflow": null,
            "overflow_x": null,
            "overflow_y": null,
            "padding": null,
            "right": null,
            "top": null,
            "visibility": null,
            "width": null
          }
        },
        "f7cca2518a9a4fbba2113a4b2f3b0527": {
          "model_module": "@jupyter-widgets/base",
          "model_name": "LayoutModel",
          "model_module_version": "1.2.0",
          "state": {
            "_model_module": "@jupyter-widgets/base",
            "_model_module_version": "1.2.0",
            "_model_name": "LayoutModel",
            "_view_count": null,
            "_view_module": "@jupyter-widgets/base",
            "_view_module_version": "1.2.0",
            "_view_name": "LayoutView",
            "align_content": null,
            "align_items": null,
            "align_self": null,
            "border": null,
            "bottom": null,
            "display": null,
            "flex": null,
            "flex_flow": null,
            "grid_area": null,
            "grid_auto_columns": null,
            "grid_auto_flow": null,
            "grid_auto_rows": null,
            "grid_column": null,
            "grid_gap": null,
            "grid_row": null,
            "grid_template_areas": null,
            "grid_template_columns": null,
            "grid_template_rows": null,
            "height": null,
            "justify_content": null,
            "justify_items": null,
            "left": null,
            "margin": null,
            "max_height": null,
            "max_width": null,
            "min_height": null,
            "min_width": null,
            "object_fit": null,
            "object_position": null,
            "order": null,
            "overflow": null,
            "overflow_x": null,
            "overflow_y": null,
            "padding": null,
            "right": null,
            "top": null,
            "visibility": null,
            "width": null
          }
        },
        "f659a656a6f2492d852d17335c715567": {
          "model_module": "@jupyter-widgets/controls",
          "model_name": "DescriptionStyleModel",
          "model_module_version": "1.5.0",
          "state": {
            "_model_module": "@jupyter-widgets/controls",
            "_model_module_version": "1.5.0",
            "_model_name": "DescriptionStyleModel",
            "_view_count": null,
            "_view_module": "@jupyter-widgets/base",
            "_view_module_version": "1.2.0",
            "_view_name": "StyleView",
            "description_width": ""
          }
        },
        "12a31a3f6e4048e09328a54834878c26": {
          "model_module": "@jupyter-widgets/base",
          "model_name": "LayoutModel",
          "model_module_version": "1.2.0",
          "state": {
            "_model_module": "@jupyter-widgets/base",
            "_model_module_version": "1.2.0",
            "_model_name": "LayoutModel",
            "_view_count": null,
            "_view_module": "@jupyter-widgets/base",
            "_view_module_version": "1.2.0",
            "_view_name": "LayoutView",
            "align_content": null,
            "align_items": null,
            "align_self": null,
            "border": null,
            "bottom": null,
            "display": null,
            "flex": null,
            "flex_flow": null,
            "grid_area": null,
            "grid_auto_columns": null,
            "grid_auto_flow": null,
            "grid_auto_rows": null,
            "grid_column": null,
            "grid_gap": null,
            "grid_row": null,
            "grid_template_areas": null,
            "grid_template_columns": null,
            "grid_template_rows": null,
            "height": null,
            "justify_content": null,
            "justify_items": null,
            "left": null,
            "margin": null,
            "max_height": null,
            "max_width": null,
            "min_height": null,
            "min_width": null,
            "object_fit": null,
            "object_position": null,
            "order": null,
            "overflow": null,
            "overflow_x": null,
            "overflow_y": null,
            "padding": null,
            "right": null,
            "top": null,
            "visibility": null,
            "width": null
          }
        },
        "378fc7a1c5764f368f51ff6b5322fe04": {
          "model_module": "@jupyter-widgets/controls",
          "model_name": "ProgressStyleModel",
          "model_module_version": "1.5.0",
          "state": {
            "_model_module": "@jupyter-widgets/controls",
            "_model_module_version": "1.5.0",
            "_model_name": "ProgressStyleModel",
            "_view_count": null,
            "_view_module": "@jupyter-widgets/base",
            "_view_module_version": "1.2.0",
            "_view_name": "StyleView",
            "bar_color": null,
            "description_width": ""
          }
        },
        "8c9672f78ff94f3a80b16ccebb8bcb0b": {
          "model_module": "@jupyter-widgets/base",
          "model_name": "LayoutModel",
          "model_module_version": "1.2.0",
          "state": {
            "_model_module": "@jupyter-widgets/base",
            "_model_module_version": "1.2.0",
            "_model_name": "LayoutModel",
            "_view_count": null,
            "_view_module": "@jupyter-widgets/base",
            "_view_module_version": "1.2.0",
            "_view_name": "LayoutView",
            "align_content": null,
            "align_items": null,
            "align_self": null,
            "border": null,
            "bottom": null,
            "display": null,
            "flex": null,
            "flex_flow": null,
            "grid_area": null,
            "grid_auto_columns": null,
            "grid_auto_flow": null,
            "grid_auto_rows": null,
            "grid_column": null,
            "grid_gap": null,
            "grid_row": null,
            "grid_template_areas": null,
            "grid_template_columns": null,
            "grid_template_rows": null,
            "height": null,
            "justify_content": null,
            "justify_items": null,
            "left": null,
            "margin": null,
            "max_height": null,
            "max_width": null,
            "min_height": null,
            "min_width": null,
            "object_fit": null,
            "object_position": null,
            "order": null,
            "overflow": null,
            "overflow_x": null,
            "overflow_y": null,
            "padding": null,
            "right": null,
            "top": null,
            "visibility": null,
            "width": null
          }
        },
        "6758644fba174402b57d687f92251390": {
          "model_module": "@jupyter-widgets/controls",
          "model_name": "DescriptionStyleModel",
          "model_module_version": "1.5.0",
          "state": {
            "_model_module": "@jupyter-widgets/controls",
            "_model_module_version": "1.5.0",
            "_model_name": "DescriptionStyleModel",
            "_view_count": null,
            "_view_module": "@jupyter-widgets/base",
            "_view_module_version": "1.2.0",
            "_view_name": "StyleView",
            "description_width": ""
          }
        },
        "366913499634442bbd0b755868bad595": {
          "model_module": "@jupyter-widgets/controls",
          "model_name": "HBoxModel",
          "model_module_version": "1.5.0",
          "state": {
            "_dom_classes": [],
            "_model_module": "@jupyter-widgets/controls",
            "_model_module_version": "1.5.0",
            "_model_name": "HBoxModel",
            "_view_count": null,
            "_view_module": "@jupyter-widgets/controls",
            "_view_module_version": "1.5.0",
            "_view_name": "HBoxView",
            "box_style": "",
            "children": [
              "IPY_MODEL_090e8a39cc6d488897b3c94f206a4b6f",
              "IPY_MODEL_a2b53a06c5d44479bbcd1f3c57b248b7",
              "IPY_MODEL_1f770db9ee204f5c9d12e667bef14fa6"
            ],
            "layout": "IPY_MODEL_c832304f6a2f46678b7bc503c27dba64"
          }
        },
        "090e8a39cc6d488897b3c94f206a4b6f": {
          "model_module": "@jupyter-widgets/controls",
          "model_name": "HTMLModel",
          "model_module_version": "1.5.0",
          "state": {
            "_dom_classes": [],
            "_model_module": "@jupyter-widgets/controls",
            "_model_module_version": "1.5.0",
            "_model_name": "HTMLModel",
            "_view_count": null,
            "_view_module": "@jupyter-widgets/controls",
            "_view_module_version": "1.5.0",
            "_view_name": "HTMLView",
            "description": "",
            "description_tooltip": null,
            "layout": "IPY_MODEL_1c57b83a0e184017b0debe14b14c1935",
            "placeholder": "​",
            "style": "IPY_MODEL_141f4ad2adb04be6b05a4d78cbfe0994",
            "value": "100%"
          }
        },
        "a2b53a06c5d44479bbcd1f3c57b248b7": {
          "model_module": "@jupyter-widgets/controls",
          "model_name": "FloatProgressModel",
          "model_module_version": "1.5.0",
          "state": {
            "_dom_classes": [],
            "_model_module": "@jupyter-widgets/controls",
            "_model_module_version": "1.5.0",
            "_model_name": "FloatProgressModel",
            "_view_count": null,
            "_view_module": "@jupyter-widgets/controls",
            "_view_module_version": "1.5.0",
            "_view_name": "ProgressView",
            "bar_style": "success",
            "description": "",
            "description_tooltip": null,
            "layout": "IPY_MODEL_ee89f422cebd443980eaea5654ff6a64",
            "max": 1648877,
            "min": 0,
            "orientation": "horizontal",
            "style": "IPY_MODEL_92908785b1744376883707958d716e6e",
            "value": 1648877
          }
        },
        "1f770db9ee204f5c9d12e667bef14fa6": {
          "model_module": "@jupyter-widgets/controls",
          "model_name": "HTMLModel",
          "model_module_version": "1.5.0",
          "state": {
            "_dom_classes": [],
            "_model_module": "@jupyter-widgets/controls",
            "_model_module_version": "1.5.0",
            "_model_name": "HTMLModel",
            "_view_count": null,
            "_view_module": "@jupyter-widgets/controls",
            "_view_module_version": "1.5.0",
            "_view_name": "HTMLView",
            "description": "",
            "description_tooltip": null,
            "layout": "IPY_MODEL_ed2f87b79330424182709c3a33e921a2",
            "placeholder": "​",
            "style": "IPY_MODEL_95cddf7a3021416c9c9137c0fd3fba9e",
            "value": " 1648877/1648877 [00:00&lt;00:00, 22061385.58it/s]"
          }
        },
        "c832304f6a2f46678b7bc503c27dba64": {
          "model_module": "@jupyter-widgets/base",
          "model_name": "LayoutModel",
          "model_module_version": "1.2.0",
          "state": {
            "_model_module": "@jupyter-widgets/base",
            "_model_module_version": "1.2.0",
            "_model_name": "LayoutModel",
            "_view_count": null,
            "_view_module": "@jupyter-widgets/base",
            "_view_module_version": "1.2.0",
            "_view_name": "LayoutView",
            "align_content": null,
            "align_items": null,
            "align_self": null,
            "border": null,
            "bottom": null,
            "display": null,
            "flex": null,
            "flex_flow": null,
            "grid_area": null,
            "grid_auto_columns": null,
            "grid_auto_flow": null,
            "grid_auto_rows": null,
            "grid_column": null,
            "grid_gap": null,
            "grid_row": null,
            "grid_template_areas": null,
            "grid_template_columns": null,
            "grid_template_rows": null,
            "height": null,
            "justify_content": null,
            "justify_items": null,
            "left": null,
            "margin": null,
            "max_height": null,
            "max_width": null,
            "min_height": null,
            "min_width": null,
            "object_fit": null,
            "object_position": null,
            "order": null,
            "overflow": null,
            "overflow_x": null,
            "overflow_y": null,
            "padding": null,
            "right": null,
            "top": null,
            "visibility": null,
            "width": null
          }
        },
        "1c57b83a0e184017b0debe14b14c1935": {
          "model_module": "@jupyter-widgets/base",
          "model_name": "LayoutModel",
          "model_module_version": "1.2.0",
          "state": {
            "_model_module": "@jupyter-widgets/base",
            "_model_module_version": "1.2.0",
            "_model_name": "LayoutModel",
            "_view_count": null,
            "_view_module": "@jupyter-widgets/base",
            "_view_module_version": "1.2.0",
            "_view_name": "LayoutView",
            "align_content": null,
            "align_items": null,
            "align_self": null,
            "border": null,
            "bottom": null,
            "display": null,
            "flex": null,
            "flex_flow": null,
            "grid_area": null,
            "grid_auto_columns": null,
            "grid_auto_flow": null,
            "grid_auto_rows": null,
            "grid_column": null,
            "grid_gap": null,
            "grid_row": null,
            "grid_template_areas": null,
            "grid_template_columns": null,
            "grid_template_rows": null,
            "height": null,
            "justify_content": null,
            "justify_items": null,
            "left": null,
            "margin": null,
            "max_height": null,
            "max_width": null,
            "min_height": null,
            "min_width": null,
            "object_fit": null,
            "object_position": null,
            "order": null,
            "overflow": null,
            "overflow_x": null,
            "overflow_y": null,
            "padding": null,
            "right": null,
            "top": null,
            "visibility": null,
            "width": null
          }
        },
        "141f4ad2adb04be6b05a4d78cbfe0994": {
          "model_module": "@jupyter-widgets/controls",
          "model_name": "DescriptionStyleModel",
          "model_module_version": "1.5.0",
          "state": {
            "_model_module": "@jupyter-widgets/controls",
            "_model_module_version": "1.5.0",
            "_model_name": "DescriptionStyleModel",
            "_view_count": null,
            "_view_module": "@jupyter-widgets/base",
            "_view_module_version": "1.2.0",
            "_view_name": "StyleView",
            "description_width": ""
          }
        },
        "ee89f422cebd443980eaea5654ff6a64": {
          "model_module": "@jupyter-widgets/base",
          "model_name": "LayoutModel",
          "model_module_version": "1.2.0",
          "state": {
            "_model_module": "@jupyter-widgets/base",
            "_model_module_version": "1.2.0",
            "_model_name": "LayoutModel",
            "_view_count": null,
            "_view_module": "@jupyter-widgets/base",
            "_view_module_version": "1.2.0",
            "_view_name": "LayoutView",
            "align_content": null,
            "align_items": null,
            "align_self": null,
            "border": null,
            "bottom": null,
            "display": null,
            "flex": null,
            "flex_flow": null,
            "grid_area": null,
            "grid_auto_columns": null,
            "grid_auto_flow": null,
            "grid_auto_rows": null,
            "grid_column": null,
            "grid_gap": null,
            "grid_row": null,
            "grid_template_areas": null,
            "grid_template_columns": null,
            "grid_template_rows": null,
            "height": null,
            "justify_content": null,
            "justify_items": null,
            "left": null,
            "margin": null,
            "max_height": null,
            "max_width": null,
            "min_height": null,
            "min_width": null,
            "object_fit": null,
            "object_position": null,
            "order": null,
            "overflow": null,
            "overflow_x": null,
            "overflow_y": null,
            "padding": null,
            "right": null,
            "top": null,
            "visibility": null,
            "width": null
          }
        },
        "92908785b1744376883707958d716e6e": {
          "model_module": "@jupyter-widgets/controls",
          "model_name": "ProgressStyleModel",
          "model_module_version": "1.5.0",
          "state": {
            "_model_module": "@jupyter-widgets/controls",
            "_model_module_version": "1.5.0",
            "_model_name": "ProgressStyleModel",
            "_view_count": null,
            "_view_module": "@jupyter-widgets/base",
            "_view_module_version": "1.2.0",
            "_view_name": "StyleView",
            "bar_color": null,
            "description_width": ""
          }
        },
        "ed2f87b79330424182709c3a33e921a2": {
          "model_module": "@jupyter-widgets/base",
          "model_name": "LayoutModel",
          "model_module_version": "1.2.0",
          "state": {
            "_model_module": "@jupyter-widgets/base",
            "_model_module_version": "1.2.0",
            "_model_name": "LayoutModel",
            "_view_count": null,
            "_view_module": "@jupyter-widgets/base",
            "_view_module_version": "1.2.0",
            "_view_name": "LayoutView",
            "align_content": null,
            "align_items": null,
            "align_self": null,
            "border": null,
            "bottom": null,
            "display": null,
            "flex": null,
            "flex_flow": null,
            "grid_area": null,
            "grid_auto_columns": null,
            "grid_auto_flow": null,
            "grid_auto_rows": null,
            "grid_column": null,
            "grid_gap": null,
            "grid_row": null,
            "grid_template_areas": null,
            "grid_template_columns": null,
            "grid_template_rows": null,
            "height": null,
            "justify_content": null,
            "justify_items": null,
            "left": null,
            "margin": null,
            "max_height": null,
            "max_width": null,
            "min_height": null,
            "min_width": null,
            "object_fit": null,
            "object_position": null,
            "order": null,
            "overflow": null,
            "overflow_x": null,
            "overflow_y": null,
            "padding": null,
            "right": null,
            "top": null,
            "visibility": null,
            "width": null
          }
        },
        "95cddf7a3021416c9c9137c0fd3fba9e": {
          "model_module": "@jupyter-widgets/controls",
          "model_name": "DescriptionStyleModel",
          "model_module_version": "1.5.0",
          "state": {
            "_model_module": "@jupyter-widgets/controls",
            "_model_module_version": "1.5.0",
            "_model_name": "DescriptionStyleModel",
            "_view_count": null,
            "_view_module": "@jupyter-widgets/base",
            "_view_module_version": "1.2.0",
            "_view_name": "StyleView",
            "description_width": ""
          }
        },
        "74027c1a73e04ebb88808d892e4175ef": {
          "model_module": "@jupyter-widgets/controls",
          "model_name": "HBoxModel",
          "model_module_version": "1.5.0",
          "state": {
            "_dom_classes": [],
            "_model_module": "@jupyter-widgets/controls",
            "_model_module_version": "1.5.0",
            "_model_name": "HBoxModel",
            "_view_count": null,
            "_view_module": "@jupyter-widgets/controls",
            "_view_module_version": "1.5.0",
            "_view_name": "HBoxView",
            "box_style": "",
            "children": [
              "IPY_MODEL_03e0767d638046eca979fe9c5ff0aef2",
              "IPY_MODEL_a90c2800b345462a9aff0a6daa27ba69",
              "IPY_MODEL_4811d5ad5173404fae9382bcae0d3983"
            ],
            "layout": "IPY_MODEL_f4d7778570e84c0d89bcf85b9a55edab"
          }
        },
        "03e0767d638046eca979fe9c5ff0aef2": {
          "model_module": "@jupyter-widgets/controls",
          "model_name": "HTMLModel",
          "model_module_version": "1.5.0",
          "state": {
            "_dom_classes": [],
            "_model_module": "@jupyter-widgets/controls",
            "_model_module_version": "1.5.0",
            "_model_name": "HTMLModel",
            "_view_count": null,
            "_view_module": "@jupyter-widgets/controls",
            "_view_module_version": "1.5.0",
            "_view_name": "HTMLView",
            "description": "",
            "description_tooltip": null,
            "layout": "IPY_MODEL_00ba3d56a996480e9a58bc5b44f23855",
            "placeholder": "​",
            "style": "IPY_MODEL_d0cf176b6e5d4944be168f8517f9b9fd",
            "value": "100%"
          }
        },
        "a90c2800b345462a9aff0a6daa27ba69": {
          "model_module": "@jupyter-widgets/controls",
          "model_name": "FloatProgressModel",
          "model_module_version": "1.5.0",
          "state": {
            "_dom_classes": [],
            "_model_module": "@jupyter-widgets/controls",
            "_model_module_version": "1.5.0",
            "_model_name": "FloatProgressModel",
            "_view_count": null,
            "_view_module": "@jupyter-widgets/controls",
            "_view_module_version": "1.5.0",
            "_view_name": "ProgressView",
            "bar_style": "success",
            "description": "",
            "description_tooltip": null,
            "layout": "IPY_MODEL_079019eec26f43488c1647cdecb80f8f",
            "max": 4542,
            "min": 0,
            "orientation": "horizontal",
            "style": "IPY_MODEL_ba6b40d96f7144e3a03d7e9dfccc6c46",
            "value": 4542
          }
        },
        "4811d5ad5173404fae9382bcae0d3983": {
          "model_module": "@jupyter-widgets/controls",
          "model_name": "HTMLModel",
          "model_module_version": "1.5.0",
          "state": {
            "_dom_classes": [],
            "_model_module": "@jupyter-widgets/controls",
            "_model_module_version": "1.5.0",
            "_model_name": "HTMLModel",
            "_view_count": null,
            "_view_module": "@jupyter-widgets/controls",
            "_view_module_version": "1.5.0",
            "_view_name": "HTMLView",
            "description": "",
            "description_tooltip": null,
            "layout": "IPY_MODEL_5df069156d8b4ba39796ea23d67304b8",
            "placeholder": "​",
            "style": "IPY_MODEL_8e8c417097454feea336246eb0dcbac2",
            "value": " 4542/4542 [00:00&lt;00:00, 270554.14it/s]"
          }
        },
        "f4d7778570e84c0d89bcf85b9a55edab": {
          "model_module": "@jupyter-widgets/base",
          "model_name": "LayoutModel",
          "model_module_version": "1.2.0",
          "state": {
            "_model_module": "@jupyter-widgets/base",
            "_model_module_version": "1.2.0",
            "_model_name": "LayoutModel",
            "_view_count": null,
            "_view_module": "@jupyter-widgets/base",
            "_view_module_version": "1.2.0",
            "_view_name": "LayoutView",
            "align_content": null,
            "align_items": null,
            "align_self": null,
            "border": null,
            "bottom": null,
            "display": null,
            "flex": null,
            "flex_flow": null,
            "grid_area": null,
            "grid_auto_columns": null,
            "grid_auto_flow": null,
            "grid_auto_rows": null,
            "grid_column": null,
            "grid_gap": null,
            "grid_row": null,
            "grid_template_areas": null,
            "grid_template_columns": null,
            "grid_template_rows": null,
            "height": null,
            "justify_content": null,
            "justify_items": null,
            "left": null,
            "margin": null,
            "max_height": null,
            "max_width": null,
            "min_height": null,
            "min_width": null,
            "object_fit": null,
            "object_position": null,
            "order": null,
            "overflow": null,
            "overflow_x": null,
            "overflow_y": null,
            "padding": null,
            "right": null,
            "top": null,
            "visibility": null,
            "width": null
          }
        },
        "00ba3d56a996480e9a58bc5b44f23855": {
          "model_module": "@jupyter-widgets/base",
          "model_name": "LayoutModel",
          "model_module_version": "1.2.0",
          "state": {
            "_model_module": "@jupyter-widgets/base",
            "_model_module_version": "1.2.0",
            "_model_name": "LayoutModel",
            "_view_count": null,
            "_view_module": "@jupyter-widgets/base",
            "_view_module_version": "1.2.0",
            "_view_name": "LayoutView",
            "align_content": null,
            "align_items": null,
            "align_self": null,
            "border": null,
            "bottom": null,
            "display": null,
            "flex": null,
            "flex_flow": null,
            "grid_area": null,
            "grid_auto_columns": null,
            "grid_auto_flow": null,
            "grid_auto_rows": null,
            "grid_column": null,
            "grid_gap": null,
            "grid_row": null,
            "grid_template_areas": null,
            "grid_template_columns": null,
            "grid_template_rows": null,
            "height": null,
            "justify_content": null,
            "justify_items": null,
            "left": null,
            "margin": null,
            "max_height": null,
            "max_width": null,
            "min_height": null,
            "min_width": null,
            "object_fit": null,
            "object_position": null,
            "order": null,
            "overflow": null,
            "overflow_x": null,
            "overflow_y": null,
            "padding": null,
            "right": null,
            "top": null,
            "visibility": null,
            "width": null
          }
        },
        "d0cf176b6e5d4944be168f8517f9b9fd": {
          "model_module": "@jupyter-widgets/controls",
          "model_name": "DescriptionStyleModel",
          "model_module_version": "1.5.0",
          "state": {
            "_model_module": "@jupyter-widgets/controls",
            "_model_module_version": "1.5.0",
            "_model_name": "DescriptionStyleModel",
            "_view_count": null,
            "_view_module": "@jupyter-widgets/base",
            "_view_module_version": "1.2.0",
            "_view_name": "StyleView",
            "description_width": ""
          }
        },
        "079019eec26f43488c1647cdecb80f8f": {
          "model_module": "@jupyter-widgets/base",
          "model_name": "LayoutModel",
          "model_module_version": "1.2.0",
          "state": {
            "_model_module": "@jupyter-widgets/base",
            "_model_module_version": "1.2.0",
            "_model_name": "LayoutModel",
            "_view_count": null,
            "_view_module": "@jupyter-widgets/base",
            "_view_module_version": "1.2.0",
            "_view_name": "LayoutView",
            "align_content": null,
            "align_items": null,
            "align_self": null,
            "border": null,
            "bottom": null,
            "display": null,
            "flex": null,
            "flex_flow": null,
            "grid_area": null,
            "grid_auto_columns": null,
            "grid_auto_flow": null,
            "grid_auto_rows": null,
            "grid_column": null,
            "grid_gap": null,
            "grid_row": null,
            "grid_template_areas": null,
            "grid_template_columns": null,
            "grid_template_rows": null,
            "height": null,
            "justify_content": null,
            "justify_items": null,
            "left": null,
            "margin": null,
            "max_height": null,
            "max_width": null,
            "min_height": null,
            "min_width": null,
            "object_fit": null,
            "object_position": null,
            "order": null,
            "overflow": null,
            "overflow_x": null,
            "overflow_y": null,
            "padding": null,
            "right": null,
            "top": null,
            "visibility": null,
            "width": null
          }
        },
        "ba6b40d96f7144e3a03d7e9dfccc6c46": {
          "model_module": "@jupyter-widgets/controls",
          "model_name": "ProgressStyleModel",
          "model_module_version": "1.5.0",
          "state": {
            "_model_module": "@jupyter-widgets/controls",
            "_model_module_version": "1.5.0",
            "_model_name": "ProgressStyleModel",
            "_view_count": null,
            "_view_module": "@jupyter-widgets/base",
            "_view_module_version": "1.2.0",
            "_view_name": "StyleView",
            "bar_color": null,
            "description_width": ""
          }
        },
        "5df069156d8b4ba39796ea23d67304b8": {
          "model_module": "@jupyter-widgets/base",
          "model_name": "LayoutModel",
          "model_module_version": "1.2.0",
          "state": {
            "_model_module": "@jupyter-widgets/base",
            "_model_module_version": "1.2.0",
            "_model_name": "LayoutModel",
            "_view_count": null,
            "_view_module": "@jupyter-widgets/base",
            "_view_module_version": "1.2.0",
            "_view_name": "LayoutView",
            "align_content": null,
            "align_items": null,
            "align_self": null,
            "border": null,
            "bottom": null,
            "display": null,
            "flex": null,
            "flex_flow": null,
            "grid_area": null,
            "grid_auto_columns": null,
            "grid_auto_flow": null,
            "grid_auto_rows": null,
            "grid_column": null,
            "grid_gap": null,
            "grid_row": null,
            "grid_template_areas": null,
            "grid_template_columns": null,
            "grid_template_rows": null,
            "height": null,
            "justify_content": null,
            "justify_items": null,
            "left": null,
            "margin": null,
            "max_height": null,
            "max_width": null,
            "min_height": null,
            "min_width": null,
            "object_fit": null,
            "object_position": null,
            "order": null,
            "overflow": null,
            "overflow_x": null,
            "overflow_y": null,
            "padding": null,
            "right": null,
            "top": null,
            "visibility": null,
            "width": null
          }
        },
        "8e8c417097454feea336246eb0dcbac2": {
          "model_module": "@jupyter-widgets/controls",
          "model_name": "DescriptionStyleModel",
          "model_module_version": "1.5.0",
          "state": {
            "_model_module": "@jupyter-widgets/controls",
            "_model_module_version": "1.5.0",
            "_model_name": "DescriptionStyleModel",
            "_view_count": null,
            "_view_module": "@jupyter-widgets/base",
            "_view_module_version": "1.2.0",
            "_view_name": "StyleView",
            "description_width": ""
          }
        }
      }
    }
  },
  "cells": [
    {
      "cell_type": "markdown",
      "source": [
        "My research paper that needs to be implemented was to Provably Robust Deep Learning via Adversarially\n",
        "Trained Smoothed Classifiers<br> \n",
        "\n",
        "Paper Link- https://arxiv.org/pdf/1906.04584.pdf\n",
        "\n"
      ],
      "metadata": {
        "id": "1P0iAR1RVLzQ"
      }
    },
    {
      "cell_type": "markdown",
      "source": [
        "# Importing Libraries"
      ],
      "metadata": {
        "id": "-9FVL5ywV5Ny"
      }
    },
    {
      "cell_type": "code",
      "source": [
        "pip install git+https://github.com/CNOCycle/cleverhans.git@feature/tf2.x"
      ],
      "metadata": {
        "id": "_HtNhELQim84",
        "colab": {
          "base_uri": "https://localhost:8080/"
        },
        "outputId": "e49e1d09-3f03-495c-e1d0-904eafabc20a"
      },
      "execution_count": 1,
      "outputs": [
        {
          "output_type": "stream",
          "name": "stdout",
          "text": [
            "Looking in indexes: https://pypi.org/simple, https://us-python.pkg.dev/colab-wheels/public/simple/\n",
            "Collecting git+https://github.com/CNOCycle/cleverhans.git@feature/tf2.x\n",
            "  Cloning https://github.com/CNOCycle/cleverhans.git (to revision feature/tf2.x) to /tmp/pip-req-build-rrb0smpw\n",
            "  Running command git clone --filter=blob:none --quiet https://github.com/CNOCycle/cleverhans.git /tmp/pip-req-build-rrb0smpw\n",
            "  Running command git checkout -b feature/tf2.x --track origin/feature/tf2.x\n",
            "  Switched to a new branch 'feature/tf2.x'\n",
            "  Branch 'feature/tf2.x' set up to track remote branch 'feature/tf2.x' from 'origin'.\n",
            "  Resolved https://github.com/CNOCycle/cleverhans.git to commit b103b0caf983331ec9c5f7c3e08e417a85bf25e2\n",
            "  Preparing metadata (setup.py) ... \u001b[?25l\u001b[?25hdone\n",
            "Collecting nose\n",
            "  Downloading nose-1.3.7-py3-none-any.whl (154 kB)\n",
            "\u001b[2K     \u001b[90m━━━━━━━━━━━━━━━━━━━━━━━━━━━━━━━━━━━━━━━\u001b[0m \u001b[32m154.7/154.7 KB\u001b[0m \u001b[31m4.8 MB/s\u001b[0m eta \u001b[36m0:00:00\u001b[0m\n",
            "\u001b[?25hCollecting pycodestyle\n",
            "  Downloading pycodestyle-2.10.0-py2.py3-none-any.whl (41 kB)\n",
            "\u001b[2K     \u001b[90m━━━━━━━━━━━━━━━━━━━━━━━━━━━━━━━━━━━━━━━━\u001b[0m \u001b[32m41.3/41.3 KB\u001b[0m \u001b[31m5.8 MB/s\u001b[0m eta \u001b[36m0:00:00\u001b[0m\n",
            "\u001b[?25hRequirement already satisfied: scipy in /usr/local/lib/python3.8/dist-packages (from cleverhans==3.0.1) (1.7.3)\n",
            "Requirement already satisfied: matplotlib in /usr/local/lib/python3.8/dist-packages (from cleverhans==3.0.1) (3.2.2)\n",
            "Collecting mnist~=0.2\n",
            "  Downloading mnist-0.2.2-py2.py3-none-any.whl (3.5 kB)\n",
            "Requirement already satisfied: numpy in /usr/local/lib/python3.8/dist-packages (from cleverhans==3.0.1) (1.21.6)\n",
            "Requirement already satisfied: tensorflow-probability in /usr/local/lib/python3.8/dist-packages (from cleverhans==3.0.1) (0.19.0)\n",
            "Requirement already satisfied: joblib in /usr/local/lib/python3.8/dist-packages (from cleverhans==3.0.1) (1.2.0)\n",
            "Requirement already satisfied: python-dateutil>=2.1 in /usr/local/lib/python3.8/dist-packages (from matplotlib->cleverhans==3.0.1) (2.8.2)\n",
            "Requirement already satisfied: pyparsing!=2.0.4,!=2.1.2,!=2.1.6,>=2.0.1 in /usr/local/lib/python3.8/dist-packages (from matplotlib->cleverhans==3.0.1) (3.0.9)\n",
            "Requirement already satisfied: cycler>=0.10 in /usr/local/lib/python3.8/dist-packages (from matplotlib->cleverhans==3.0.1) (0.11.0)\n",
            "Requirement already satisfied: kiwisolver>=1.0.1 in /usr/local/lib/python3.8/dist-packages (from matplotlib->cleverhans==3.0.1) (1.4.4)\n",
            "Requirement already satisfied: gast>=0.3.2 in /usr/local/lib/python3.8/dist-packages (from tensorflow-probability->cleverhans==3.0.1) (0.4.0)\n",
            "Requirement already satisfied: absl-py in /usr/local/lib/python3.8/dist-packages (from tensorflow-probability->cleverhans==3.0.1) (1.4.0)\n",
            "Requirement already satisfied: six>=1.10.0 in /usr/local/lib/python3.8/dist-packages (from tensorflow-probability->cleverhans==3.0.1) (1.15.0)\n",
            "Requirement already satisfied: dm-tree in /usr/local/lib/python3.8/dist-packages (from tensorflow-probability->cleverhans==3.0.1) (0.1.8)\n",
            "Requirement already satisfied: decorator in /usr/local/lib/python3.8/dist-packages (from tensorflow-probability->cleverhans==3.0.1) (4.4.2)\n",
            "Requirement already satisfied: cloudpickle>=1.3 in /usr/local/lib/python3.8/dist-packages (from tensorflow-probability->cleverhans==3.0.1) (2.2.1)\n",
            "Building wheels for collected packages: cleverhans\n",
            "  Building wheel for cleverhans (setup.py) ... \u001b[?25l\u001b[?25hdone\n",
            "  Created wheel for cleverhans: filename=cleverhans-3.0.1-py3-none-any.whl size=254398 sha256=d997afb171eca80488ca365112ead9181d0fbaa7f743f2b240caafedc13369d5\n",
            "  Stored in directory: /tmp/pip-ephem-wheel-cache-u4c4lx7z/wheels/10/d5/89/6f4ad1c54b8bbc0355ef05c162e4da100e48b686355730e36a\n",
            "Successfully built cleverhans\n",
            "Installing collected packages: nose, pycodestyle, mnist, cleverhans\n",
            "Successfully installed cleverhans-3.0.1 mnist-0.2.2 nose-1.3.7 pycodestyle-2.10.0\n"
          ]
        }
      ]
    },
    {
      "cell_type": "code",
      "source": [
        "import numpy as np \n",
        "import pandas as pd\n",
        "import matplotlib.pyplot as plt \n",
        "import seaborn as sns\n",
        "from PIL import Image\n",
        "\n",
        "import torch \n",
        "import torch.nn as nn \n",
        "import torch.nn.functional as F\n",
        "from torch.utils.data import DataLoader,Dataset \n",
        "from torchvision.datasets import CIFAR10,MNIST\n",
        "from torchvision import transforms \n",
        "from torch.utils.data import random_split\n",
        "from torchvision.utils import make_grid\n",
        "from torchvision import datasets, models, transforms\n",
        "import torch.optim as optim\n",
        "from torch.utils.data import Subset\n",
        "from cleverhans.future.torch.attacks.fast_gradient_method import fast_gradient_method\n",
        "from cleverhans.future.torch.attacks.projected_gradient_descent import projected_gradient_descent\n",
        "\n",
        "\n",
        "from absl import app, flags\n",
        "import time \n",
        "import copy\n",
        "import tqdm\n",
        "import os\n",
        "import io\n",
        "from collections import Counter\n",
        "%matplotlib inline"
      ],
      "metadata": {
        "id": "Q1xOjRApV79E"
      },
      "execution_count": 1,
      "outputs": []
    },
    {
      "cell_type": "code",
      "source": [
        "FLAGS = flags.FLAGS"
      ],
      "metadata": {
        "id": "7dZfLK0OYDGA"
      },
      "execution_count": 3,
      "outputs": []
    },
    {
      "cell_type": "code",
      "source": [
        "device = torch.device(\"cuda:0\" if torch.cuda.is_available() else \"cpu\")"
      ],
      "metadata": {
        "id": "SxSqBgx2WNBt"
      },
      "execution_count": 4,
      "outputs": []
    },
    {
      "cell_type": "markdown",
      "source": [
        "# Getting the data"
      ],
      "metadata": {
        "id": "jp_RIhNSWQ4S"
      }
    },
    {
      "cell_type": "code",
      "source": [
        "#making the transform for our dataset \n",
        "transform=transforms.Compose([\n",
        "        transforms.RandomHorizontalFlip(),\n",
        "        transforms.ToTensor()])"
      ],
      "metadata": {
        "id": "lw85ZoSOWT85"
      },
      "execution_count": 5,
      "outputs": []
    },
    {
      "cell_type": "code",
      "source": [
        "train_dataset = CIFAR10(root = 'data/', download = True, transform = transform)\n",
        "test_dataset = CIFAR10(root = 'data/', train = False, transform = transform)"
      ],
      "metadata": {
        "colab": {
          "base_uri": "https://localhost:8080/",
          "height": 84,
          "referenced_widgets": [
            "68d4b559ac2648ad992dbc1945640253",
            "25e3917bbbbf4f77ad906b7b47ae532c",
            "23401334d0fa4d05b0f92ff72bfb9f50",
            "2244c317d968428d9956b24c7feca6de",
            "1624fd5bb8fc4db4a67025a14b60d8f6",
            "4b32879164b84b90926f7d825cb6deac",
            "8dfaa27f90924f099da70f48a9217738",
            "7e2fb5cf6ebd480dba2600678a13e55b",
            "b475cd485d464717a1dac89bfd14ac12",
            "debecb8bb69d40f18909fcfd1fa5c85d",
            "3bb42e4552aa4636a234bb2862c87e85"
          ]
        },
        "id": "rYzIiTSlWgxc",
        "outputId": "898d2dbd-fe34-484a-da69-f169d4c5cea1"
      },
      "execution_count": 6,
      "outputs": [
        {
          "output_type": "stream",
          "name": "stdout",
          "text": [
            "Downloading https://www.cs.toronto.edu/~kriz/cifar-10-python.tar.gz to data/cifar-10-python.tar.gz\n"
          ]
        },
        {
          "output_type": "display_data",
          "data": {
            "text/plain": [
              "  0%|          | 0/170498071 [00:00<?, ?it/s]"
            ],
            "application/vnd.jupyter.widget-view+json": {
              "version_major": 2,
              "version_minor": 0,
              "model_id": "68d4b559ac2648ad992dbc1945640253"
            }
          },
          "metadata": {}
        },
        {
          "output_type": "stream",
          "name": "stdout",
          "text": [
            "Extracting data/cifar-10-python.tar.gz to data/\n"
          ]
        }
      ]
    },
    {
      "cell_type": "code",
      "source": [
        "print(train_dataset) \n",
        "print(test_dataset)"
      ],
      "metadata": {
        "colab": {
          "base_uri": "https://localhost:8080/"
        },
        "id": "4E5IZD91WoRr",
        "outputId": "04806497-ff4f-4abd-d8b0-62325e4cab39"
      },
      "execution_count": 7,
      "outputs": [
        {
          "output_type": "stream",
          "name": "stdout",
          "text": [
            "Dataset CIFAR10\n",
            "    Number of datapoints: 50000\n",
            "    Root location: data/\n",
            "    Split: Train\n",
            "    StandardTransform\n",
            "Transform: Compose(\n",
            "               RandomHorizontalFlip(p=0.5)\n",
            "               ToTensor()\n",
            "           )\n",
            "Dataset CIFAR10\n",
            "    Number of datapoints: 10000\n",
            "    Root location: data/\n",
            "    Split: Test\n",
            "    StandardTransform\n",
            "Transform: Compose(\n",
            "               RandomHorizontalFlip(p=0.5)\n",
            "               ToTensor()\n",
            "           )\n"
          ]
        }
      ]
    },
    {
      "cell_type": "code",
      "source": [
        "train_dataloader = torch.utils.data.DataLoader(train_dataset,\n",
        "                                         batch_size=8, \n",
        "                                         drop_last=True)\n",
        "\n",
        "test_dataloader = torch.utils.data.DataLoader(test_dataset,\n",
        "                                         batch_size=8, \n",
        "                                         drop_last=True)"
      ],
      "metadata": {
        "id": "K5rCxkmRWrBx"
      },
      "execution_count": 8,
      "outputs": []
    },
    {
      "cell_type": "code",
      "source": [
        "#making the datalaoder dictionary \n",
        "dataloaders_dict = {\"train\": train_dataloader, \"val\": test_dataloader}"
      ],
      "metadata": {
        "id": "fIvN4nyAWzpU"
      },
      "execution_count": 9,
      "outputs": []
    },
    {
      "cell_type": "markdown",
      "source": [
        "# Training a normal classifier"
      ],
      "metadata": {
        "id": "_g-zdshEe-pn"
      }
    },
    {
      "cell_type": "markdown",
      "source": [
        "## Defining a normal CNN"
      ],
      "metadata": {
        "id": "fX-rAPUBfbfJ"
      }
    },
    {
      "cell_type": "code",
      "source": [
        "class CNN_normal(nn.Module): \n",
        "  def __init__(self): \n",
        "    super().__init__()\n",
        "    self.cnn=nn.Sequential(nn.Conv2d(3,32,kernel_size=3,padding=1),\n",
        "                           nn.ReLU(True),\n",
        "                           nn.MaxPool2d(2,2),\n",
        "                           nn.Conv2d(32,64,kernel_size=3,padding=1),\n",
        "                           nn.ReLU(True),\n",
        "                           nn.MaxPool2d(2,2),\n",
        "                           nn.Conv2d(64,64,kernel_size=3,padding=1),\n",
        "                           nn.ReLU(),\n",
        "                           nn.MaxPool2d(2,2)\n",
        "                           )\n",
        "    \n",
        "    self.linear_layer=nn.Sequential(nn.Flatten(),\n",
        "                                    nn.Linear(64*4*4,100),\n",
        "                                    nn.Linear(100,10))\n",
        "    \n",
        "  def forward(self,x): \n",
        "    x=self.cnn(x)\n",
        "    x=self.linear_layer(x)\n",
        "\n",
        "    return x"
      ],
      "metadata": {
        "id": "KdPrL9YefBVj"
      },
      "execution_count": null,
      "outputs": []
    },
    {
      "cell_type": "code",
      "source": [
        "model_2=CNN_normal()\n",
        "print(model_2)"
      ],
      "metadata": {
        "colab": {
          "base_uri": "https://localhost:8080/"
        },
        "id": "mnl4pvpFfEuD",
        "outputId": "ad657580-1293-4a32-ed0a-2bdcf8f86fa3"
      },
      "execution_count": null,
      "outputs": [
        {
          "output_type": "stream",
          "name": "stdout",
          "text": [
            "CNN_normal(\n",
            "  (cnn): Sequential(\n",
            "    (0): Conv2d(3, 32, kernel_size=(3, 3), stride=(1, 1), padding=(1, 1))\n",
            "    (1): ReLU(inplace=True)\n",
            "    (2): MaxPool2d(kernel_size=2, stride=2, padding=0, dilation=1, ceil_mode=False)\n",
            "    (3): Conv2d(32, 64, kernel_size=(3, 3), stride=(1, 1), padding=(1, 1))\n",
            "    (4): ReLU(inplace=True)\n",
            "    (5): MaxPool2d(kernel_size=2, stride=2, padding=0, dilation=1, ceil_mode=False)\n",
            "    (6): Conv2d(64, 64, kernel_size=(3, 3), stride=(1, 1), padding=(1, 1))\n",
            "    (7): ReLU()\n",
            "    (8): MaxPool2d(kernel_size=2, stride=2, padding=0, dilation=1, ceil_mode=False)\n",
            "  )\n",
            "  (linear_layer): Sequential(\n",
            "    (0): Flatten(start_dim=1, end_dim=-1)\n",
            "    (1): Linear(in_features=1024, out_features=100, bias=True)\n",
            "    (2): Linear(in_features=100, out_features=10, bias=True)\n",
            "  )\n",
            ")\n"
          ]
        }
      ]
    },
    {
      "cell_type": "markdown",
      "source": [
        "## Training the classifier"
      ],
      "metadata": {
        "id": "1KvebRF7fMUU"
      }
    },
    {
      "cell_type": "code",
      "source": [
        "def train_model(model, criterion, optimizer, scheduler, num_epochs=25, device='cpu',noise_factor=0.2):\n",
        "      since = time.time()\n",
        "\n",
        "      best_model_wts = copy.deepcopy(model.state_dict())\n",
        "      best_acc = 0.0\n",
        "      model.to(device)\n",
        "\n",
        "      for epoch in range(num_epochs):\n",
        "        print('Epoch {}/{}'.format(epoch, num_epochs - 1))\n",
        "        print('-' * 10)\n",
        "\n",
        "        # Each epoch has a training and validation phase\n",
        "        for phase in ['train', 'val']:\n",
        "          if phase == 'train':\n",
        "            model.train()  # Set model to training mode\n",
        "          else:\n",
        "            model.eval()   # Set model to evaluate mode\n",
        "\n",
        "          running_loss = 0.0\n",
        "          running_corrects = 0\n",
        "\n",
        "          # Iterate over data.\n",
        "          for inputs, labels in dataloaders_dict[phase]:\n",
        "            #adding noise to my image\n",
        "            \n",
        "            inputs = inputs.to(device)\n",
        "            labels = labels.to(device)\n",
        "            \n",
        "\n",
        "            # zero the parameter gradients\n",
        "            optimizer.zero_grad()\n",
        "\n",
        "            # forward\n",
        "            # track history if only in train\n",
        "            with torch.set_grad_enabled(phase == 'train'):\n",
        "              outputs = model(inputs)\n",
        "              _, preds = torch.max(outputs, 1)\n",
        "              loss = criterion(outputs, labels)\n",
        "\n",
        "              # backward + optimize only if in training phase\n",
        "              if phase == 'train':\n",
        "                loss.backward()\n",
        "                optimizer.step()\n",
        "\n",
        "            # statistics\n",
        "            running_loss += loss.item() * inputs.size(0)\n",
        "            running_corrects += torch.sum(preds == labels.data)\n",
        "          if phase == 'train':\n",
        "            scheduler.step()\n",
        "\n",
        "          epoch_loss = running_loss / len(dataloaders_dict[phase].dataset)\n",
        "          epoch_acc = running_corrects.double() / len(dataloaders_dict[phase].dataset)\n",
        "\n",
        "          print('{} Loss: {:.4f} Acc: {:.4f}'.format(\n",
        "            phase, epoch_loss, epoch_acc))\n",
        "\n",
        "          # deep copy the model\n",
        "          if phase == 'val' and epoch_acc > best_acc:\n",
        "            best_acc = epoch_acc\n",
        "            best_model_wts = copy.deepcopy(model.state_dict())\n",
        "\n",
        "        print()\n",
        "\n",
        "      time_elapsed = time.time() - since\n",
        "      print('Training complete in {:.0f}m {:.0f}s'.format(\n",
        "        time_elapsed // 60, time_elapsed % 60))\n",
        "      print('Best val Acc: {:4f}'.format(best_acc))\n",
        "\n",
        "      # load best model weights\n",
        "      model.load_state_dict(best_model_wts)\n",
        "      return model"
      ],
      "metadata": {
        "id": "RgVIXEFLfKs7"
      },
      "execution_count": null,
      "outputs": []
    },
    {
      "cell_type": "code",
      "source": [
        "criterion=torch.nn.CrossEntropyLoss()\n",
        "learning_rate=0.01 \n",
        "optimizer_2 = torch.optim.SGD(model_2.parameters(), lr=learning_rate) \n",
        "exp_lr_scheduler_2 = optim.lr_scheduler.StepLR(optimizer_2, step_size=7, gamma=0.1)"
      ],
      "metadata": {
        "id": "kGmKNXL3fZYx"
      },
      "execution_count": null,
      "outputs": []
    },
    {
      "cell_type": "code",
      "source": [
        "original_model = train_model(model_2, criterion, optimizer_2, exp_lr_scheduler_2,\n",
        "                        num_epochs=10, device='cuda')"
      ],
      "metadata": {
        "colab": {
          "base_uri": "https://localhost:8080/"
        },
        "id": "R3YCFNuAfmSR",
        "outputId": "373c3dfa-856b-40fe-e187-4334377c8103"
      },
      "execution_count": null,
      "outputs": [
        {
          "output_type": "stream",
          "name": "stdout",
          "text": [
            "Epoch 0/9\n",
            "----------\n",
            "train Loss: 1.8677 Acc: 0.3169\n",
            "val Loss: 1.5499 Acc: 0.4329\n",
            "\n",
            "Epoch 1/9\n",
            "----------\n",
            "train Loss: 1.4019 Acc: 0.4991\n",
            "val Loss: 1.2742 Acc: 0.5445\n",
            "\n",
            "Epoch 2/9\n",
            "----------\n",
            "train Loss: 1.1695 Acc: 0.5884\n",
            "val Loss: 1.1012 Acc: 0.6123\n",
            "\n",
            "Epoch 3/9\n",
            "----------\n",
            "train Loss: 1.0279 Acc: 0.6421\n",
            "val Loss: 1.0260 Acc: 0.6403\n",
            "\n",
            "Epoch 4/9\n",
            "----------\n",
            "train Loss: 0.9341 Acc: 0.6757\n",
            "val Loss: 0.9093 Acc: 0.6862\n",
            "\n",
            "Epoch 5/9\n",
            "----------\n",
            "train Loss: 0.8631 Acc: 0.6996\n",
            "val Loss: 0.8722 Acc: 0.6968\n",
            "\n",
            "Epoch 6/9\n",
            "----------\n",
            "train Loss: 0.8129 Acc: 0.7170\n",
            "val Loss: 0.8437 Acc: 0.7102\n",
            "\n",
            "Epoch 7/9\n",
            "----------\n",
            "train Loss: 0.6810 Acc: 0.7659\n",
            "val Loss: 0.7697 Acc: 0.7353\n",
            "\n",
            "Epoch 8/9\n",
            "----------\n",
            "train Loss: 0.6593 Acc: 0.7735\n",
            "val Loss: 0.7596 Acc: 0.7411\n",
            "\n",
            "Epoch 9/9\n",
            "----------\n",
            "train Loss: 0.6460 Acc: 0.7773\n",
            "val Loss: 0.7491 Acc: 0.7441\n",
            "\n",
            "Training complete in 4m 37s\n",
            "Best val Acc: 0.744100\n"
          ]
        }
      ]
    },
    {
      "cell_type": "code",
      "source": [
        "#saving my model \n",
        "torch.save(original_model,'/content/drive/MyDrive/pre trained models/original_CNN_Cifar10.pb')"
      ],
      "metadata": {
        "id": "FnjS27o4hKzo"
      },
      "execution_count": null,
      "outputs": []
    },
    {
      "cell_type": "markdown",
      "source": [
        "## Testing it on adversarial attack"
      ],
      "metadata": {
        "id": "eFcaKq-qf0a9"
      }
    },
    {
      "cell_type": "markdown",
      "source": [
        "This helps to attack the image with some adervsial attack with the given epsilon"
      ],
      "metadata": {
        "id": "9sxqgK6lf4T7"
      }
    },
    {
      "cell_type": "code",
      "source": [
        "# FGSM attack code\n",
        "def fgsm_attack(image, epsilon, data_grad):\n",
        "    sign_data_grad = data_grad.sign()\n",
        "    perturbed_image = image + epsilon*sign_data_grad\n",
        "    perturbed_image = torch.clamp(perturbed_image, 0, 1)\n",
        "    return perturbed_image"
      ],
      "metadata": {
        "id": "rGASpA8zZW6p"
      },
      "execution_count": 18,
      "outputs": []
    },
    {
      "cell_type": "markdown",
      "source": [
        "This function applies the adverisal attack on the validation data and return the average accuracy "
      ],
      "metadata": {
        "id": "wfa5xMadgCH9"
      }
    },
    {
      "cell_type": "code",
      "source": [
        "def evalAdvAttack(epsilon,fgsm_model=None, test_loader=None):\n",
        "  total=0 \n",
        "  correct=0 \n",
        "  #looping over all the test data \n",
        "  for data,target in test_loader:\n",
        "    data, target = data.to(device), target.to(device)\n",
        "    #important for the attack\n",
        "    data.requires_grad = True\n",
        "    #collecting the data gradient\n",
        "    #adding attack to the image using the fgsm_attack function \n",
        "    # perturbed_data = fgsm_attack(data, epsilon, data) \n",
        "    perturbed_data = fast_gradient_method(fgsm_model, data, eps=epsilon, norm=np.inf, clip_min=0., clip_max=1.)\n",
        "    #sending the data to the model \n",
        "    preds1 = fgsm_model(perturbed_data)\n",
        "    preds_np1 = preds1.cpu().detach().numpy()\n",
        "    finalPred = np.argmax(preds_np1, axis=1)\n",
        "    correct += (finalPred == target.cpu().detach().numpy()).sum()\n",
        "    total += test_loader.batch_size\n",
        "  acc = float(correct) / total\n",
        "  print('Adv accuracy: {:.3f}％'.format(acc * 100))"
      ],
      "metadata": {
        "id": "TkocYeHybRyn"
      },
      "execution_count": 19,
      "outputs": []
    },
    {
      "cell_type": "code",
      "source": [
        "evalAdvAttack(0.05,fgsm_model=original_model, test_loader=test_dataloader)"
      ],
      "metadata": {
        "colab": {
          "base_uri": "https://localhost:8080/"
        },
        "id": "y2FR6Itojdkt",
        "outputId": "3d1d6fe6-8bb9-4d96-c529-dec6e3a842f9"
      },
      "execution_count": null,
      "outputs": [
        {
          "output_type": "stream",
          "name": "stdout",
          "text": [
            "Adv accuracy: 12.250％\n"
          ]
        }
      ]
    },
    {
      "cell_type": "code",
      "source": [
        "evalAdvAttack(0.2,fgsm_model=original_model, test_loader=test_dataloader)"
      ],
      "metadata": {
        "colab": {
          "base_uri": "https://localhost:8080/"
        },
        "id": "zwJbqa2Ug6Pr",
        "outputId": "66932f9b-f319-484e-c078-2cee80ad9b1e"
      },
      "execution_count": null,
      "outputs": [
        {
          "output_type": "stream",
          "name": "stdout",
          "text": [
            "Adv accuracy: 8.570％\n"
          ]
        }
      ]
    },
    {
      "cell_type": "code",
      "source": [
        "evalAdvAttack(0.3,fgsm_model=original_model, test_loader=test_dataloader)"
      ],
      "metadata": {
        "colab": {
          "base_uri": "https://localhost:8080/"
        },
        "id": "M2B41-eyhAw-",
        "outputId": "7981dc15-0111-486d-f651-e92c80f56952"
      },
      "execution_count": null,
      "outputs": [
        {
          "output_type": "stream",
          "name": "stdout",
          "text": [
            "Adv accuracy: 8.590％\n"
          ]
        }
      ]
    },
    {
      "cell_type": "markdown",
      "source": [
        "Our original accuracy was 74% but with value of episolon value of 0.05- 12.250% and with 0.2 it has the value of8.57% and with 0.3 it is 0.8590 <br> \n",
        "Which means our original model is not prune to the adverisal attacks "
      ],
      "metadata": {
        "id": "aMGjnKG-hqlM"
      }
    },
    {
      "cell_type": "markdown",
      "source": [
        "# Training a smoothened classifier\n",
        "A smoothened classifier means training a classifier with some noise in data so that it is prune against small perbutations in data<br> \n",
        "However it is not that much effective against adervsial attacks<br> \n",
        "Lets see it"
      ],
      "metadata": {
        "id": "outUuC-pVeCw"
      }
    },
    {
      "cell_type": "markdown",
      "source": [
        "## Defining a simple CNN"
      ],
      "metadata": {
        "id": "JfyRQeZ_W21N"
      }
    },
    {
      "cell_type": "code",
      "execution_count": null,
      "metadata": {
        "id": "PfNy0JrcVH1l"
      },
      "outputs": [],
      "source": [
        "class CNN(nn.Module): \n",
        "  def __init__(self): \n",
        "    super().__init__()\n",
        "    self.cnn=nn.Sequential(nn.Conv2d(3,32,kernel_size=3,padding=1),\n",
        "                           nn.ReLU(True),\n",
        "                           nn.MaxPool2d(2,2),\n",
        "                           nn.Conv2d(32,64,kernel_size=3,padding=1),\n",
        "                           nn.ReLU(True),\n",
        "                           nn.MaxPool2d(2,2),\n",
        "                           nn.Conv2d(64,64,kernel_size=3,padding=1),\n",
        "                           nn.ReLU(),\n",
        "                           nn.MaxPool2d(2,2)\n",
        "                           )\n",
        "    \n",
        "    self.linear_layer=nn.Sequential(nn.Flatten(),\n",
        "                                    nn.Linear(64*4*4,100),\n",
        "                                    nn.Linear(100,10))\n",
        "    \n",
        "  def forward(self,x): \n",
        "    x=self.cnn(x)\n",
        "    x=self.linear_layer(x)\n",
        "\n",
        "    return x"
      ]
    },
    {
      "cell_type": "code",
      "source": [
        "model_1=CNN()\n",
        "print(model_1)"
      ],
      "metadata": {
        "colab": {
          "base_uri": "https://localhost:8080/"
        },
        "id": "q_ZYpRYKYW2E",
        "outputId": "0bbe0f18-af94-4953-b63a-1cedf9054082"
      },
      "execution_count": null,
      "outputs": [
        {
          "output_type": "stream",
          "name": "stdout",
          "text": [
            "CNN(\n",
            "  (cnn): Sequential(\n",
            "    (0): Conv2d(3, 32, kernel_size=(3, 3), stride=(1, 1), padding=(1, 1))\n",
            "    (1): ReLU(inplace=True)\n",
            "    (2): MaxPool2d(kernel_size=2, stride=2, padding=0, dilation=1, ceil_mode=False)\n",
            "    (3): Conv2d(32, 64, kernel_size=(3, 3), stride=(1, 1), padding=(1, 1))\n",
            "    (4): ReLU(inplace=True)\n",
            "    (5): MaxPool2d(kernel_size=2, stride=2, padding=0, dilation=1, ceil_mode=False)\n",
            "    (6): Conv2d(64, 64, kernel_size=(3, 3), stride=(1, 1), padding=(1, 1))\n",
            "    (7): ReLU()\n",
            "    (8): MaxPool2d(kernel_size=2, stride=2, padding=0, dilation=1, ceil_mode=False)\n",
            "  )\n",
            "  (linear_layer): Sequential(\n",
            "    (0): Flatten(start_dim=1, end_dim=-1)\n",
            "    (1): Linear(in_features=1024, out_features=100, bias=True)\n",
            "    (2): Linear(in_features=100, out_features=10, bias=True)\n",
            "  )\n",
            ")\n"
          ]
        }
      ]
    },
    {
      "cell_type": "markdown",
      "source": [
        "##  Smooth Training the model"
      ],
      "metadata": {
        "id": "9e4Df4T_Yh9o"
      }
    },
    {
      "cell_type": "code",
      "source": [
        "def train_smooth_model(model, criterion, optimizer, scheduler, num_epochs=25, device='cpu',noise_factor=0.2):\n",
        "      since = time.time()\n",
        "\n",
        "      best_model_wts = copy.deepcopy(model.state_dict())\n",
        "      best_acc = 0.0\n",
        "      model.to(device)\n",
        "\n",
        "      for epoch in range(num_epochs):\n",
        "        print('Epoch {}/{}'.format(epoch, num_epochs - 1))\n",
        "        print('-' * 10)\n",
        "\n",
        "        # Each epoch has a training and validation phase\n",
        "        for phase in ['train', 'val']:\n",
        "          if phase == 'train':\n",
        "            model.train()  # Set model to training mode\n",
        "          else:\n",
        "            model.eval()   # Set model to evaluate mode\n",
        "\n",
        "          running_loss = 0.0\n",
        "          running_corrects = 0\n",
        "\n",
        "          # Iterate over data.\n",
        "          for inputs, labels in dataloaders_dict[phase]:\n",
        "            #adding noise to my image\n",
        "            img_noisy = inputs + noise_factor * torch.randn(inputs.shape)\n",
        "            inputs = inputs.to(device)\n",
        "            labels = labels.to(device)\n",
        "            img_noisy=img_noisy.to(device)\n",
        "\n",
        "            # zero the parameter gradients\n",
        "            optimizer.zero_grad()\n",
        "\n",
        "            # forward\n",
        "            # track history if only in train\n",
        "            with torch.set_grad_enabled(phase == 'train'):\n",
        "              outputs = model(img_noisy)\n",
        "              _, preds = torch.max(outputs, 1)\n",
        "              loss = criterion(outputs, labels)\n",
        "\n",
        "              # backward + optimize only if in training phase\n",
        "              if phase == 'train':\n",
        "                loss.backward()\n",
        "                optimizer.step()\n",
        "\n",
        "            # statistics\n",
        "            running_loss += loss.item() * inputs.size(0)\n",
        "            running_corrects += torch.sum(preds == labels.data)\n",
        "          if phase == 'train':\n",
        "            scheduler.step()\n",
        "\n",
        "          epoch_loss = running_loss / len(dataloaders_dict[phase].dataset)\n",
        "          epoch_acc = running_corrects.double() / len(dataloaders_dict[phase].dataset)\n",
        "\n",
        "          print('{} Loss: {:.4f} Acc: {:.4f}'.format(\n",
        "            phase, epoch_loss, epoch_acc))\n",
        "\n",
        "          # deep copy the model\n",
        "          if phase == 'val' and epoch_acc > best_acc:\n",
        "            best_acc = epoch_acc\n",
        "            best_model_wts = copy.deepcopy(model.state_dict())\n",
        "\n",
        "        print()\n",
        "\n",
        "      time_elapsed = time.time() - since\n",
        "      print('Training complete in {:.0f}m {:.0f}s'.format(\n",
        "        time_elapsed // 60, time_elapsed % 60))\n",
        "      print('Best val Acc: {:4f}'.format(best_acc))\n",
        "\n",
        "      # load best model weights\n",
        "      model.load_state_dict(best_model_wts)\n",
        "      return model"
      ],
      "metadata": {
        "id": "4cqdMP_kYbYj"
      },
      "execution_count": null,
      "outputs": []
    },
    {
      "cell_type": "code",
      "source": [
        "criterion=torch.nn.CrossEntropyLoss()\n",
        "learning_rate=0.01 \n",
        "optimizer_1 = torch.optim.SGD(model_1.parameters(), lr=learning_rate) \n",
        "exp_lr_scheduler_1 = optim.lr_scheduler.StepLR(optimizer_1, step_size=7, gamma=0.1)"
      ],
      "metadata": {
        "id": "9pxUumxUZGSH"
      },
      "execution_count": null,
      "outputs": []
    },
    {
      "cell_type": "code",
      "source": [
        "new_model = train_smooth_model(model_1, criterion, optimizer_1, exp_lr_scheduler_1,\n",
        "                        num_epochs=10, device='cuda')"
      ],
      "metadata": {
        "colab": {
          "base_uri": "https://localhost:8080/"
        },
        "id": "RUbrWs11ZMbE",
        "outputId": "9b5af81f-06e9-4d7d-b5c9-4505ef95aa81"
      },
      "execution_count": null,
      "outputs": [
        {
          "output_type": "stream",
          "name": "stdout",
          "text": [
            "Epoch 0/9\n",
            "----------\n",
            "train Loss: 1.7697 Acc: 0.3606\n",
            "val Loss: 1.5271 Acc: 0.4447\n",
            "\n",
            "Epoch 1/9\n",
            "----------\n",
            "train Loss: 1.4657 Acc: 0.4747\n",
            "val Loss: 1.3723 Acc: 0.5041\n",
            "\n",
            "Epoch 2/9\n",
            "----------\n",
            "train Loss: 1.3249 Acc: 0.5274\n",
            "val Loss: 1.2666 Acc: 0.5521\n",
            "\n",
            "Epoch 3/9\n",
            "----------\n",
            "train Loss: 1.2250 Acc: 0.5684\n",
            "val Loss: 1.1889 Acc: 0.5749\n",
            "\n",
            "Epoch 4/9\n",
            "----------\n",
            "train Loss: 1.1567 Acc: 0.5933\n",
            "val Loss: 1.1366 Acc: 0.5976\n",
            "\n",
            "Epoch 5/9\n",
            "----------\n",
            "train Loss: 1.1094 Acc: 0.6104\n",
            "val Loss: 1.1110 Acc: 0.6045\n",
            "\n",
            "Epoch 6/9\n",
            "----------\n",
            "train Loss: 1.0694 Acc: 0.6251\n",
            "val Loss: 1.0696 Acc: 0.6276\n",
            "\n",
            "Epoch 7/9\n",
            "----------\n",
            "train Loss: 0.9668 Acc: 0.6622\n",
            "val Loss: 1.0143 Acc: 0.6452\n",
            "\n",
            "Epoch 8/9\n",
            "----------\n",
            "train Loss: 0.9483 Acc: 0.6680\n",
            "val Loss: 1.0059 Acc: 0.6503\n",
            "\n",
            "Epoch 9/9\n",
            "----------\n",
            "train Loss: 0.9405 Acc: 0.6712\n",
            "val Loss: 0.9895 Acc: 0.6524\n",
            "\n",
            "Training complete in 5m 5s\n",
            "Best val Acc: 0.652400\n"
          ]
        }
      ]
    },
    {
      "cell_type": "markdown",
      "source": [
        "Saving my model for further use "
      ],
      "metadata": {
        "id": "HlWw1UfTcAR5"
      }
    },
    {
      "cell_type": "code",
      "source": [
        "torch.save(new_model,'/content/drive/MyDrive/pre trained models/smoothened_CNN_Cifar10.pb')"
      ],
      "metadata": {
        "id": "2HPky8Exb_su"
      },
      "execution_count": null,
      "outputs": []
    },
    {
      "cell_type": "markdown",
      "source": [
        "## Testing it on adevrsial attack \n",
        "\n"
      ],
      "metadata": {
        "id": "j34BF2P2Z4w2"
      }
    },
    {
      "cell_type": "markdown",
      "source": [
        "now applying the adversial attack on my test data using test dataloader to see the accuracy drop "
      ],
      "metadata": {
        "id": "5fpuYRHnbUIW"
      }
    },
    {
      "cell_type": "markdown",
      "source": [
        "Running the attack with a epsilon value of 0.2"
      ],
      "metadata": {
        "id": "eYOpFdtldpZO"
      }
    },
    {
      "cell_type": "code",
      "source": [
        "evalAdvAttack(0.05,fgsm_model=new_model, test_loader=test_dataloader)"
      ],
      "metadata": {
        "colab": {
          "base_uri": "https://localhost:8080/"
        },
        "id": "lT_3k5wqj37z",
        "outputId": "38dcfa57-d97b-475d-8695-af1d560d77cc"
      },
      "execution_count": null,
      "outputs": [
        {
          "output_type": "stream",
          "name": "stdout",
          "text": [
            "Adv accuracy: 20.090％\n"
          ]
        }
      ]
    },
    {
      "cell_type": "code",
      "source": [
        "evalAdvAttack(0.2,fgsm_model=new_model, test_loader=test_dataloader)"
      ],
      "metadata": {
        "colab": {
          "base_uri": "https://localhost:8080/"
        },
        "id": "hBQDzs7Hdj7W",
        "outputId": "cdb5aa1d-0077-45f6-df39-624d5fb7a8e5"
      },
      "execution_count": null,
      "outputs": [
        {
          "output_type": "stream",
          "name": "stdout",
          "text": [
            "Adv accuracy: 17.310％\n"
          ]
        }
      ]
    },
    {
      "cell_type": "markdown",
      "source": [
        "Now checking it epsilon value of 0.3"
      ],
      "metadata": {
        "id": "Hxf7r8xqeZZh"
      }
    },
    {
      "cell_type": "code",
      "source": [
        "evalAdvAttack(0.3,fgsm_model=new_model, test_loader=test_dataloader)"
      ],
      "metadata": {
        "colab": {
          "base_uri": "https://localhost:8080/"
        },
        "id": "0Lwg82xEd3_b",
        "outputId": "80847a9a-fcf4-4667-d3d3-eaa827ca9cfb"
      },
      "execution_count": null,
      "outputs": [
        {
          "output_type": "stream",
          "name": "stdout",
          "text": [
            "Adv accuracy: 14.970％\n"
          ]
        }
      ]
    },
    {
      "cell_type": "markdown",
      "source": [
        "We can see that with the smoothening training the accuracy the adv accuracy at 0.05 is 20% , at 0.2 it is 17%, but with 0.3% it is 14% which means it is better than the original model but still far than achieving any meaniningful results"
      ],
      "metadata": {
        "id": "654nPY9cehB_"
      }
    },
    {
      "cell_type": "markdown",
      "source": [
        "# Adversially training a smoothned classifer"
      ],
      "metadata": {
        "id": "fwIT8aMOkXe1"
      }
    },
    {
      "cell_type": "markdown",
      "source": [
        "## Defining a simple CNN"
      ],
      "metadata": {
        "id": "FnCqkR1rkgyf"
      }
    },
    {
      "cell_type": "code",
      "source": [
        "class CNN(nn.Module): \n",
        "  def __init__(self): \n",
        "    super().__init__()\n",
        "    self.cnn=nn.Sequential(nn.Conv2d(3,32,kernel_size=3,padding=1),\n",
        "                           nn.ReLU(True),\n",
        "                           nn.MaxPool2d(2,2),\n",
        "                           nn.Conv2d(32,64,kernel_size=3,padding=1),\n",
        "                           nn.ReLU(True),\n",
        "                           nn.MaxPool2d(2,2),\n",
        "                           nn.Conv2d(64,64,kernel_size=3,padding=1),\n",
        "                           nn.ReLU(),\n",
        "                           nn.MaxPool2d(2,2)\n",
        "                           )\n",
        "    \n",
        "    self.linear_layer=nn.Sequential(nn.Flatten(),\n",
        "                                    nn.Linear(64*4*4,100),\n",
        "                                    nn.Linear(100,10))\n",
        "    \n",
        "  def forward(self,x): \n",
        "    x=self.cnn(x)\n",
        "    x=self.linear_layer(x)\n",
        "\n",
        "    return x"
      ],
      "metadata": {
        "id": "hsEiK3Iceebm"
      },
      "execution_count": 14,
      "outputs": []
    },
    {
      "cell_type": "code",
      "source": [
        "model_3=CNN()\n",
        "print(model_3)"
      ],
      "metadata": {
        "colab": {
          "base_uri": "https://localhost:8080/"
        },
        "id": "QPV0VwNxkm5c",
        "outputId": "ff8eb26b-aa80-4465-c764-f8a58e9d0f9b"
      },
      "execution_count": null,
      "outputs": [
        {
          "output_type": "stream",
          "name": "stdout",
          "text": [
            "CNN(\n",
            "  (cnn): Sequential(\n",
            "    (0): Conv2d(3, 32, kernel_size=(3, 3), stride=(1, 1), padding=(1, 1))\n",
            "    (1): ReLU(inplace=True)\n",
            "    (2): MaxPool2d(kernel_size=2, stride=2, padding=0, dilation=1, ceil_mode=False)\n",
            "    (3): Conv2d(32, 64, kernel_size=(3, 3), stride=(1, 1), padding=(1, 1))\n",
            "    (4): ReLU(inplace=True)\n",
            "    (5): MaxPool2d(kernel_size=2, stride=2, padding=0, dilation=1, ceil_mode=False)\n",
            "    (6): Conv2d(64, 64, kernel_size=(3, 3), stride=(1, 1), padding=(1, 1))\n",
            "    (7): ReLU()\n",
            "    (8): MaxPool2d(kernel_size=2, stride=2, padding=0, dilation=1, ceil_mode=False)\n",
            "  )\n",
            "  (linear_layer): Sequential(\n",
            "    (0): Flatten(start_dim=1, end_dim=-1)\n",
            "    (1): Linear(in_features=1024, out_features=100, bias=True)\n",
            "    (2): Linear(in_features=100, out_features=10, bias=True)\n",
            "  )\n",
            ")\n"
          ]
        }
      ]
    },
    {
      "cell_type": "markdown",
      "source": [
        "## Adversially training a smoothned classifier\n",
        "In adverisally training a smooth classifier we also take some of the adverisal data with our training <br> \n"
      ],
      "metadata": {
        "id": "mKZKTypskuxt"
      }
    },
    {
      "cell_type": "code",
      "source": [
        "def train_adversial_smooth_model(model, criterion1,criterion2, optimizer, scheduler, num_epochs=25, device='cpu',noise_factor=0.2,epsilon=0.2):\n",
        "      since = time.time()\n",
        "\n",
        "      best_model_wts = copy.deepcopy(model.state_dict())\n",
        "      best_acc = 0.0\n",
        "      model.to(device)\n",
        "\n",
        "      for epoch in range(num_epochs):\n",
        "        print('Epoch {}/{}'.format(epoch, num_epochs - 1))\n",
        "        print('-' * 10)\n",
        "\n",
        "        # Each epoch has a training and validation phase\n",
        "        for phase in ['train', 'val']:\n",
        "          if phase == 'train':\n",
        "            model.train()  # Set model to training mode\n",
        "          else:\n",
        "            model.eval()   # Set model to evaluate mode\n",
        "\n",
        "          running_loss = 0.0\n",
        "          running_corrects = 0\n",
        "\n",
        "          # Iterate over data.\n",
        "          for inputs, labels in dataloaders_dict[phase]:\n",
        "            #adding noise to my image\n",
        "            img_noisy = inputs + noise_factor * torch.randn(inputs.shape)\n",
        "            inputs = inputs.to(device)\n",
        "            labels = labels.to(device)\n",
        "            img_noisy=img_noisy.to(device)\n",
        "\n",
        "            perturbed_data = fast_gradient_method(model, img_noisy, eps=epsilon, norm=np.inf, clip_min=0., clip_max=1.)\n",
        "            # zero the parameter gradients\n",
        "            optimizer.zero_grad()\n",
        "\n",
        "            # forward\n",
        "            # track history if only in train\n",
        "            with torch.set_grad_enabled(phase == 'train'):\n",
        "              outputs1 = model(img_noisy)\n",
        "              loss1 = criterion1(outputs1, labels)\n",
        "\n",
        "              #now appyling the adverisal attack on my data \n",
        "              outputs2 = model(perturbed_data)\n",
        "              _, preds2 = torch.max(outputs2, 1)\n",
        "              loss2 = criterion2(outputs2, labels)\n",
        "\n",
        "              #making a final loss by comining both the loss \n",
        "              final_loss=0.5*loss1+0.5*loss2\n",
        "\n",
        "\n",
        "              # backward + optimize only if in training phase\n",
        "              if phase == 'train':\n",
        "                final_loss.backward()\n",
        "                optimizer.step()\n",
        "\n",
        "            # statistics\n",
        "            running_loss += final_loss.item() * inputs.size(0)\n",
        "            running_corrects += torch.sum(preds2 == labels.data)\n",
        "          if phase == 'train':\n",
        "            scheduler.step()\n",
        "\n",
        "          epoch_loss = running_loss / len(dataloaders_dict[phase].dataset)\n",
        "          epoch_acc = running_corrects.double() / len(dataloaders_dict[phase].dataset)\n",
        "\n",
        "          print('{} Loss: {:.4f} Acc: {:.4f}'.format(\n",
        "            phase, epoch_loss, epoch_acc))\n",
        "\n",
        "          # deep copy the model\n",
        "          if phase == 'val' and epoch_acc > best_acc:\n",
        "            best_acc = epoch_acc\n",
        "            best_model_wts = copy.deepcopy(model.state_dict())\n",
        "\n",
        "        print()\n",
        "\n",
        "      time_elapsed = time.time() - since\n",
        "      print('Training complete in {:.0f}m {:.0f}s'.format(\n",
        "        time_elapsed // 60, time_elapsed % 60))\n",
        "      print('Best val Acc: {:4f}'.format(best_acc))\n",
        "\n",
        "      # load best model weights\n",
        "      model.load_state_dict(best_model_wts)\n",
        "      return model"
      ],
      "metadata": {
        "id": "R7VdhlywUDtF"
      },
      "execution_count": null,
      "outputs": []
    },
    {
      "cell_type": "code",
      "source": [
        "criterion1=torch.nn.CrossEntropyLoss()\n",
        "criterion2=torch.nn.CrossEntropyLoss()\n",
        "learning_rate=0.01 \n",
        "optimizer_3 = torch.optim.SGD(model_3.parameters(), lr=learning_rate) \n",
        "exp_lr_scheduler_3 = optim.lr_scheduler.StepLR(optimizer_3, step_size=7, gamma=0.1)"
      ],
      "metadata": {
        "id": "uKo1zRkbpTqw"
      },
      "execution_count": null,
      "outputs": []
    },
    {
      "cell_type": "code",
      "source": [
        "adeversial_smooth_model = train_adversial_smooth_model(model_1, criterion1,criterion2, optimizer_1, exp_lr_scheduler_1,\n",
        "                        num_epochs=20, device='cuda',epsilon=0.2)"
      ],
      "metadata": {
        "colab": {
          "base_uri": "https://localhost:8080/"
        },
        "id": "FMrT-0FvphkR",
        "outputId": "6c210d17-a99c-481f-e244-0eec5527aed1"
      },
      "execution_count": null,
      "outputs": [
        {
          "output_type": "stream",
          "name": "stdout",
          "text": [
            "Epoch 0/19\n",
            "----------\n",
            "train Loss: 1.9996 Acc: 0.1788\n",
            "val Loss: 1.8906 Acc: 0.1911\n",
            "\n",
            "Epoch 1/19\n",
            "----------\n",
            "train Loss: 1.8484 Acc: 0.1851\n",
            "val Loss: 1.8035 Acc: 0.1973\n",
            "\n",
            "Epoch 2/19\n",
            "----------\n",
            "train Loss: 1.7787 Acc: 0.1941\n",
            "val Loss: 1.7539 Acc: 0.2058\n",
            "\n",
            "Epoch 3/19\n",
            "----------\n",
            "train Loss: 1.7413 Acc: 0.1978\n",
            "val Loss: 1.7336 Acc: 0.2107\n",
            "\n",
            "Epoch 4/19\n",
            "----------\n",
            "train Loss: 1.7176 Acc: 0.2061\n",
            "val Loss: 1.7113 Acc: 0.2081\n",
            "\n",
            "Epoch 5/19\n",
            "----------\n",
            "train Loss: 1.6998 Acc: 0.2065\n",
            "val Loss: 1.6988 Acc: 0.2127\n",
            "\n",
            "Epoch 6/19\n",
            "----------\n",
            "train Loss: 1.6867 Acc: 0.2131\n",
            "val Loss: 1.6864 Acc: 0.2176\n",
            "\n",
            "Epoch 7/19\n",
            "----------\n",
            "train Loss: 1.6805 Acc: 0.2157\n",
            "val Loss: 1.6877 Acc: 0.2188\n",
            "\n",
            "Epoch 8/19\n",
            "----------\n",
            "train Loss: 1.6800 Acc: 0.2134\n",
            "val Loss: 1.6836 Acc: 0.2187\n",
            "\n",
            "Epoch 9/19\n",
            "----------\n",
            "train Loss: 1.6782 Acc: 0.2155\n",
            "val Loss: 1.6814 Acc: 0.2218\n",
            "\n",
            "Epoch 10/19\n",
            "----------\n",
            "train Loss: 1.6780 Acc: 0.2171\n",
            "val Loss: 1.6814 Acc: 0.2188\n",
            "\n",
            "Epoch 11/19\n",
            "----------\n",
            "train Loss: 1.6777 Acc: 0.2146\n",
            "val Loss: 1.6797 Acc: 0.2220\n",
            "\n",
            "Epoch 12/19\n",
            "----------\n",
            "train Loss: 1.6736 Acc: 0.2158\n",
            "val Loss: 1.6814 Acc: 0.2192\n",
            "\n",
            "Epoch 13/19\n",
            "----------\n",
            "train Loss: 1.6767 Acc: 0.2129\n",
            "val Loss: 1.6781 Acc: 0.2262\n",
            "\n",
            "Epoch 14/19\n",
            "----------\n",
            "train Loss: 1.6749 Acc: 0.2161\n",
            "val Loss: 1.6758 Acc: 0.2210\n",
            "\n",
            "Epoch 15/19\n",
            "----------\n",
            "train Loss: 1.6731 Acc: 0.2155\n",
            "val Loss: 1.6787 Acc: 0.2196\n",
            "\n",
            "Epoch 16/19\n",
            "----------\n",
            "train Loss: 1.6770 Acc: 0.2119\n",
            "val Loss: 1.6814 Acc: 0.2171\n",
            "\n",
            "Epoch 17/19\n",
            "----------\n",
            "train Loss: 1.6735 Acc: 0.2143\n",
            "val Loss: 1.6813 Acc: 0.2175\n",
            "\n",
            "Epoch 18/19\n",
            "----------\n",
            "train Loss: 1.6742 Acc: 0.2142\n",
            "val Loss: 1.6832 Acc: 0.2188\n",
            "\n",
            "Epoch 19/19\n",
            "----------\n",
            "train Loss: 1.6748 Acc: 0.2152\n",
            "val Loss: 1.6745 Acc: 0.2222\n",
            "\n",
            "Training complete in 20m 44s\n",
            "Best val Acc: 0.226200\n"
          ]
        }
      ]
    },
    {
      "cell_type": "markdown",
      "source": [
        "As we can see that our best accuracy is 0.22 for epislon training at 0.2 so reducing the epsilon value for some more meaningful results"
      ],
      "metadata": {
        "id": "BnIHQec41K63"
      }
    },
    {
      "cell_type": "code",
      "source": [
        "adeversial_smooth_model_1 = train_adversial_smooth_model(model_1, criterion1,criterion2, optimizer_1, exp_lr_scheduler_1,\n",
        "                        num_epochs=20, device='cuda',epsilon=0.01)"
      ],
      "metadata": {
        "colab": {
          "base_uri": "https://localhost:8080/"
        },
        "id": "RwWuwb7Sp389",
        "outputId": "3739c8e1-c31e-4eba-855f-2c202c76281c"
      },
      "execution_count": null,
      "outputs": [
        {
          "output_type": "stream",
          "name": "stdout",
          "text": [
            "Epoch 0/19\n",
            "----------\n",
            "train Loss: 1.2870 Acc: 0.4857\n",
            "val Loss: 1.3019 Acc: 0.4827\n",
            "\n",
            "Epoch 1/19\n",
            "----------\n",
            "train Loss: 1.2873 Acc: 0.4883\n",
            "val Loss: 1.3094 Acc: 0.4741\n",
            "\n",
            "Epoch 2/19\n",
            "----------\n",
            "train Loss: 1.2840 Acc: 0.4884\n",
            "val Loss: 1.3019 Acc: 0.4849\n",
            "\n",
            "Epoch 3/19\n",
            "----------\n",
            "train Loss: 1.2837 Acc: 0.4881\n",
            "val Loss: 1.3030 Acc: 0.4824\n",
            "\n",
            "Epoch 4/19\n",
            "----------\n",
            "train Loss: 1.2823 Acc: 0.4879\n",
            "val Loss: 1.2969 Acc: 0.4846\n",
            "\n",
            "Epoch 5/19\n",
            "----------\n",
            "train Loss: 1.2806 Acc: 0.4863\n",
            "val Loss: 1.2978 Acc: 0.4808\n",
            "\n",
            "Epoch 6/19\n",
            "----------\n",
            "train Loss: 1.2809 Acc: 0.4880\n",
            "val Loss: 1.2923 Acc: 0.4823\n",
            "\n",
            "Epoch 7/19\n",
            "----------\n",
            "train Loss: 1.2791 Acc: 0.4898\n",
            "val Loss: 1.2948 Acc: 0.4785\n",
            "\n",
            "Epoch 8/19\n",
            "----------\n",
            "train Loss: 1.2781 Acc: 0.4892\n",
            "val Loss: 1.2925 Acc: 0.4933\n",
            "\n",
            "Epoch 9/19\n",
            "----------\n",
            "train Loss: 1.2774 Acc: 0.4893\n",
            "val Loss: 1.2958 Acc: 0.4774\n",
            "\n",
            "Epoch 10/19\n",
            "----------\n",
            "train Loss: 1.2812 Acc: 0.4895\n",
            "val Loss: 1.3003 Acc: 0.4760\n",
            "\n",
            "Epoch 11/19\n",
            "----------\n",
            "train Loss: 1.2779 Acc: 0.4931\n",
            "val Loss: 1.3070 Acc: 0.4813\n",
            "\n",
            "Epoch 12/19\n",
            "----------\n",
            "train Loss: 1.2805 Acc: 0.4886\n",
            "val Loss: 1.3003 Acc: 0.4752\n",
            "\n",
            "Epoch 13/19\n",
            "----------\n",
            "train Loss: 1.2774 Acc: 0.4907\n",
            "val Loss: 1.2953 Acc: 0.4793\n",
            "\n",
            "Epoch 14/19\n",
            "----------\n",
            "train Loss: 1.2792 Acc: 0.4910\n",
            "val Loss: 1.3040 Acc: 0.4776\n",
            "\n",
            "Epoch 15/19\n",
            "----------\n",
            "train Loss: 1.2800 Acc: 0.4894\n",
            "val Loss: 1.3006 Acc: 0.4787\n",
            "\n",
            "Epoch 16/19\n",
            "----------\n",
            "train Loss: 1.2769 Acc: 0.4889\n",
            "val Loss: 1.3001 Acc: 0.4844\n",
            "\n",
            "Epoch 17/19\n",
            "----------\n",
            "train Loss: 1.2793 Acc: 0.4883\n",
            "val Loss: 1.3036 Acc: 0.4731\n",
            "\n",
            "Epoch 18/19\n",
            "----------\n",
            "train Loss: 1.2802 Acc: 0.4868\n",
            "val Loss: 1.2996 Acc: 0.4753\n",
            "\n",
            "Epoch 19/19\n",
            "----------\n",
            "train Loss: 1.2807 Acc: 0.4895\n",
            "val Loss: 1.3012 Acc: 0.4823\n",
            "\n",
            "Training complete in 20m 50s\n",
            "Best val Acc: 0.493300\n"
          ]
        }
      ]
    },
    {
      "cell_type": "markdown",
      "source": [
        "## Testing it on adverisal attack"
      ],
      "metadata": {
        "id": "JrjlwxQz6ora"
      }
    },
    {
      "cell_type": "code",
      "source": [
        "evalAdvAttack(0.2,fgsm_model=adeversial_smooth_model_1, test_loader=test_dataloader)"
      ],
      "metadata": {
        "colab": {
          "base_uri": "https://localhost:8080/"
        },
        "id": "cH5gvGgu6tAY",
        "outputId": "e1dcf038-2113-45ac-bb41-010d9a23222a"
      },
      "execution_count": null,
      "outputs": [
        {
          "output_type": "stream",
          "name": "stdout",
          "text": [
            "Adv accuracy: 26.950％\n"
          ]
        }
      ]
    },
    {
      "cell_type": "code",
      "source": [
        "evalAdvAttack(0.3,fgsm_model=adeversial_smooth_model_1, test_loader=test_dataloader)"
      ],
      "metadata": {
        "colab": {
          "base_uri": "https://localhost:8080/"
        },
        "id": "-XqLDChN7mNP",
        "outputId": "f53080f5-4848-483e-df5c-897bdc168639"
      },
      "execution_count": null,
      "outputs": [
        {
          "output_type": "stream",
          "name": "stdout",
          "text": [
            "Adv accuracy: 26.000％\n"
          ]
        }
      ]
    },
    {
      "cell_type": "markdown",
      "source": [
        "As we can see that by training my model with epilonm at 0.01 the accuracy for adversial attack on test data with 0.2 and 0.3 is much better than the previous ones"
      ],
      "metadata": {
        "id": "l__Rn_Tj7yTT"
      }
    },
    {
      "cell_type": "markdown",
      "source": [
        "Now training with the model that was trained with epsilon at 0.2"
      ],
      "metadata": {
        "id": "VnaZDL3x8lXO"
      }
    },
    {
      "cell_type": "code",
      "source": [
        "evalAdvAttack(0.2,fgsm_model=adeversial_smooth_model, test_loader=test_dataloader)"
      ],
      "metadata": {
        "colab": {
          "base_uri": "https://localhost:8080/"
        },
        "id": "Ab4n39Ut7uhL",
        "outputId": "07cc10a5-06a2-43a7-b724-9885a06f5d33"
      },
      "execution_count": null,
      "outputs": [
        {
          "output_type": "stream",
          "name": "stdout",
          "text": [
            "Adv accuracy: 27.350％\n"
          ]
        }
      ]
    },
    {
      "cell_type": "code",
      "source": [
        "evalAdvAttack(0.3,fgsm_model=adeversial_smooth_model, test_loader=test_dataloader)"
      ],
      "metadata": {
        "colab": {
          "base_uri": "https://localhost:8080/"
        },
        "id": "SzdnW_t48cx3",
        "outputId": "f431b706-c617-4da8-f727-d91dc2d832f0"
      },
      "execution_count": null,
      "outputs": [
        {
          "output_type": "stream",
          "name": "stdout",
          "text": [
            "Adv accuracy: 26.160％\n"
          ]
        }
      ]
    },
    {
      "cell_type": "markdown",
      "source": [
        "As we can see that the accuracy was almost the same as above"
      ],
      "metadata": {
        "id": "6AAh79g68rIi"
      }
    },
    {
      "cell_type": "markdown",
      "source": [
        "# Adevrsially training a smoothened classifier with l2 regulariation"
      ],
      "metadata": {
        "id": "_NL-NqkyTs2D"
      }
    },
    {
      "cell_type": "markdown",
      "source": [
        "## Making our model"
      ],
      "metadata": {
        "id": "sO87yeHWUAB-"
      }
    },
    {
      "cell_type": "code",
      "source": [
        "model_4=CNN()\n",
        "print(model_4)"
      ],
      "metadata": {
        "id": "XNXHCYac8jwG",
        "colab": {
          "base_uri": "https://localhost:8080/"
        },
        "outputId": "e5d850ea-3bdc-4068-b186-053911adb0d1"
      },
      "execution_count": 12,
      "outputs": [
        {
          "output_type": "stream",
          "name": "stdout",
          "text": [
            "CNN(\n",
            "  (cnn): Sequential(\n",
            "    (0): Conv2d(3, 32, kernel_size=(3, 3), stride=(1, 1), padding=(1, 1))\n",
            "    (1): ReLU(inplace=True)\n",
            "    (2): MaxPool2d(kernel_size=2, stride=2, padding=0, dilation=1, ceil_mode=False)\n",
            "    (3): Conv2d(32, 64, kernel_size=(3, 3), stride=(1, 1), padding=(1, 1))\n",
            "    (4): ReLU(inplace=True)\n",
            "    (5): MaxPool2d(kernel_size=2, stride=2, padding=0, dilation=1, ceil_mode=False)\n",
            "    (6): Conv2d(64, 64, kernel_size=(3, 3), stride=(1, 1), padding=(1, 1))\n",
            "    (7): ReLU()\n",
            "    (8): MaxPool2d(kernel_size=2, stride=2, padding=0, dilation=1, ceil_mode=False)\n",
            "  )\n",
            "  (linear_layer): Sequential(\n",
            "    (0): Flatten(start_dim=1, end_dim=-1)\n",
            "    (1): Linear(in_features=1024, out_features=100, bias=True)\n",
            "    (2): Linear(in_features=100, out_features=10, bias=True)\n",
            "  )\n",
            ")\n"
          ]
        }
      ]
    },
    {
      "cell_type": "markdown",
      "source": [
        "## Adverisally training with l2 regularlization"
      ],
      "metadata": {
        "id": "aRdCWebfURQF"
      }
    },
    {
      "cell_type": "code",
      "source": [
        "def pgd_attack(model, x, y, epsilon, alpha, num_iters):\n",
        "    \"\"\"Generate adversarial examples using PGD.\"\"\"\n",
        "    delta = torch.zeros_like(x).uniform_(-epsilon, epsilon)\n",
        "    for t in range(num_iters):\n",
        "        delta.requires_grad_()\n",
        "        with torch.enable_grad():\n",
        "            loss = nn.CrossEntropyLoss()(model(x + delta), y)\n",
        "        grad = torch.autograd.grad(loss, delta)[0]\n",
        "        delta = (delta + alpha * grad.detach().sign()).clamp_(-epsilon, epsilon)\n",
        "        delta = torch.min(torch.max(delta, -x), 1 - x)  # ensure x + delta is within [0, 1]\n",
        "    return x + delta"
      ],
      "metadata": {
        "id": "GHSGMPPyadT4"
      },
      "execution_count": 6,
      "outputs": []
    },
    {
      "cell_type": "code",
      "source": [
        "def train_adversial_smooth_model(model, criterion1,criterion2, optimizer, scheduler, num_epochs=25, device='cpu',noise_factor=0.2,epsilon=0.2,alpha=0.05,num_iters=10,sigma=0.05):\n",
        "      since = time.time()\n",
        "\n",
        "      best_model_wts = copy.deepcopy(model.state_dict())\n",
        "      best_acc = 0.0\n",
        "      model.to(device)\n",
        "\n",
        "      for epoch in range(num_epochs):\n",
        "        print('Epoch {}/{}'.format(epoch, num_epochs - 1))\n",
        "        print('-' * 10)\n",
        "\n",
        "        # Each epoch has a training and validation phase\n",
        "        for phase in ['train', 'val']:\n",
        "          if phase == 'train':\n",
        "            model.train()  # Set model to training mode\n",
        "          else:\n",
        "            model.eval()   # Set model to evaluate mode\n",
        "\n",
        "          running_loss = 0.0\n",
        "          running_corrects = 0\n",
        "\n",
        "          # Iterate over data.\n",
        "          for inputs, labels in dataloaders_dict[phase]:\n",
        "            #adding noise to my image\n",
        "            img_noisy = inputs + noise_factor * torch.randn(inputs.shape)\n",
        "            inputs = inputs.to(device)\n",
        "            labels = labels.to(device)\n",
        "            img_noisy=img_noisy.to(device)\n",
        "            img_noisy.requires_grad=True\n",
        "\n",
        "            perturbed_data = pgd_attack(model, inputs, labels, epsilon, alpha, num_iters)\n",
        "            # zero the parameter gradients\n",
        "            optimizer.zero_grad()\n",
        "\n",
        "            # forward\n",
        "            # track history if only in train\n",
        "            with torch.set_grad_enabled(phase == 'train'):\n",
        "              outputs1 = model(img_noisy)\n",
        "              loss1 = criterion1(outputs1, labels)\n",
        "\n",
        "              #now appyling the adverisal attack on my data \n",
        "              outputs2 = model(perturbed_data)\n",
        "              _, preds2 = torch.max(outputs2, 1)\n",
        "              loss2 = criterion2(outputs2, labels)\n",
        "\n",
        "              #making a final loss by comining both the loss \n",
        "\n",
        "\n",
        "              # backward + optimize only if in training phase\n",
        "              if phase == 'train':\n",
        "                grad = torch.autograd.grad(loss1, img_noisy,retain_graph=True)[0]\n",
        "                loss_smooth = loss1 + sigma**2 / 2 * (grad.norm()**2 + (perturbed_data - inputs).norm()**2)\n",
        "                final_loss = loss2+ loss_smooth\n",
        "                final_loss.backward()\n",
        "                optimizer.step()\n",
        "\n",
        "            # statistics\n",
        "            running_loss += final_loss.item() * inputs.size(0)\n",
        "            running_corrects += torch.sum(preds2 == labels.data)\n",
        "          if phase == 'train':\n",
        "            scheduler.step()\n",
        "\n",
        "          epoch_loss = running_loss / len(dataloaders_dict[phase].dataset)\n",
        "          epoch_acc = running_corrects.double() / len(dataloaders_dict[phase].dataset)\n",
        "\n",
        "          print('{} Loss: {:.4f} Acc: {:.4f}'.format(\n",
        "            phase, epoch_loss, epoch_acc))\n",
        "\n",
        "          # deep copy the model\n",
        "          if phase == 'val' and epoch_acc > best_acc:\n",
        "            best_acc = epoch_acc\n",
        "            best_model_wts = copy.deepcopy(model.state_dict())\n",
        "\n",
        "        print()\n",
        "\n",
        "      time_elapsed = time.time() - since\n",
        "      print('Training complete in {:.0f}m {:.0f}s'.format(\n",
        "        time_elapsed // 60, time_elapsed % 60))\n",
        "      print('Best val Acc: {:4f}'.format(best_acc))\n",
        "\n",
        "      # load best model weights\n",
        "      model.load_state_dict(best_model_wts)\n",
        "      return model"
      ],
      "metadata": {
        "id": "66iHvepQZ3m_"
      },
      "execution_count": 7,
      "outputs": []
    },
    {
      "cell_type": "code",
      "source": [
        "criterion1=torch.nn.CrossEntropyLoss()\n",
        "criterion2=torch.nn.CrossEntropyLoss()\n",
        "learning_rate=0.01 \n",
        "optimizer_4 = torch.optim.SGD(model_4.parameters(), lr=learning_rate) \n",
        "exp_lr_scheduler_4 = optim.lr_scheduler.StepLR(optimizer_4, step_size=7, gamma=0.1)"
      ],
      "metadata": {
        "id": "9Xv-Z1eVWmOx"
      },
      "execution_count": 41,
      "outputs": []
    },
    {
      "cell_type": "code",
      "source": [
        "adeversial_smooth_lr_model_1 = train_adversial_smooth_model(model_4, criterion1,criterion2, optimizer_4, exp_lr_scheduler_4,\n",
        "                        num_epochs=10, device='cuda',epsilon=0.01)"
      ],
      "metadata": {
        "id": "2CcFuZocW963",
        "colab": {
          "base_uri": "https://localhost:8080/"
        },
        "outputId": "4c4c0dd1-f09f-4be1-fc49-d619529e6aa9"
      },
      "execution_count": 42,
      "outputs": [
        {
          "output_type": "stream",
          "name": "stdout",
          "text": [
            "Epoch 0/9\n",
            "----------\n",
            "train Loss: 3.1982 Acc: 0.3584\n",
            "val Loss: 4.8238 Acc: 0.3697\n",
            "\n",
            "Epoch 1/9\n",
            "----------\n",
            "train Loss: 3.0364 Acc: 0.3827\n",
            "val Loss: 4.5617 Acc: 0.3826\n",
            "\n",
            "Epoch 2/9\n",
            "----------\n",
            "train Loss: 2.9217 Acc: 0.3995\n",
            "val Loss: 4.6720 Acc: 0.4005\n",
            "\n",
            "Epoch 3/9\n",
            "----------\n",
            "train Loss: 2.8404 Acc: 0.4130\n",
            "val Loss: 4.4900 Acc: 0.4083\n",
            "\n",
            "Epoch 4/9\n",
            "----------\n",
            "train Loss: 2.7745 Acc: 0.4232\n",
            "val Loss: 4.5468 Acc: 0.4220\n",
            "\n",
            "Epoch 5/9\n",
            "----------\n",
            "train Loss: 2.7186 Acc: 0.4300\n",
            "val Loss: 3.8489 Acc: 0.4305\n",
            "\n",
            "Epoch 6/9\n",
            "----------\n",
            "train Loss: 2.6636 Acc: 0.4393\n",
            "val Loss: 3.7708 Acc: 0.4405\n",
            "\n",
            "Epoch 7/9\n",
            "----------\n",
            "train Loss: 2.4350 Acc: 0.4721\n",
            "val Loss: 3.2044 Acc: 0.4686\n",
            "\n",
            "Epoch 8/9\n",
            "----------\n",
            "train Loss: 2.4001 Acc: 0.4792\n",
            "val Loss: 3.3858 Acc: 0.4689\n",
            "\n",
            "Epoch 9/9\n",
            "----------\n",
            "train Loss: 2.3895 Acc: 0.4800\n",
            "val Loss: 2.9294 Acc: 0.4721\n",
            "\n",
            "Training complete in 29m 53s\n",
            "Best val Acc: 0.472100\n"
          ]
        }
      ]
    },
    {
      "cell_type": "code",
      "source": [
        "torch.save(adeversial_smooth_lr_model_1,'/content/drive/MyDrive/adversial_smoothened_lr_CNN_Cifar10.pb')"
      ],
      "metadata": {
        "id": "XmoiUAJcjDtT"
      },
      "execution_count": 45,
      "outputs": []
    },
    {
      "cell_type": "markdown",
      "source": [
        "## Testing it on adversial attack"
      ],
      "metadata": {
        "id": "8vTwkoq-fbc3"
      }
    },
    {
      "cell_type": "code",
      "source": [
        "# Define the test function\n",
        "def test(model, device, test_loader, epsilon, alpha, num_iter):\n",
        "    # Set the model to evaluation mode\n",
        "    model.eval()\n",
        "\n",
        "    # Define the adversarial attack object\n",
        "\n",
        "    # Define variables to keep track of the test accuracy and the number of correctly classified samples\n",
        "    test_loss = 0\n",
        "    correct = 0\n",
        "\n",
        "    # Iterate over the test data\n",
        "    for data, target in test_loader:\n",
        "        # Move the data and target tensors to the device\n",
        "        data, target = data.to(device), target.to(device)\n",
        "\n",
        "        # Generate adversarial examples using PGD attack\n",
        "        perturbed_data = pgd_attack(model, data, target,epsilon=epsilon, alpha=alpha, num_iters=num_iter)\n",
        "\n",
        "        # Compute the model's predictions on the adversarial examples\n",
        "        output = model(perturbed_data)\n",
        "\n",
        "        # Compute the test loss\n",
        "        test_loss += F.nll_loss(output, target, reduction='sum').item()\n",
        "\n",
        "        # Get the index of the predicted class\n",
        "        pred = output.argmax(dim=1, keepdim=True)\n",
        "\n",
        "        # Update the number of correctly classified samples\n",
        "        correct += pred.eq(target.view_as(pred)).sum().item()\n",
        "\n",
        "    # Compute the final test accuracy\n",
        "    test_loss /= len(test_loader.dataset)\n",
        "    test_accuracy = 100. * correct / len(test_loader.dataset)\n",
        "\n",
        "    print('Test set: Average loss: {:.4f}, Accuracy: {}/{} ({:.2f}%)'.format(\n",
        "        test_loss, correct, len(test_loader.dataset), test_accuracy))\n",
        "\n",
        "    return test_accuracy"
      ],
      "metadata": {
        "id": "DPCkB35R3XxF"
      },
      "execution_count": 8,
      "outputs": []
    },
    {
      "cell_type": "markdown",
      "source": [
        "As you can see that our model even with epsilon at 0.2 we are performing good "
      ],
      "metadata": {
        "id": "tVcMG87n55Sb"
      }
    },
    {
      "cell_type": "code",
      "source": [
        "test(epsilon=0.2,alpha=0.05,num_iter=10,model=adeversial_smooth_lr_model_1, test_loader=test_dataloader,device='cuda')"
      ],
      "metadata": {
        "colab": {
          "base_uri": "https://localhost:8080/"
        },
        "id": "dHkD24fab6-G",
        "outputId": "8494f47c-b51d-4bec-c982-2800554c5507"
      },
      "execution_count": 52,
      "outputs": [
        {
          "output_type": "stream",
          "name": "stdout",
          "text": [
            "Test set: Average loss: 0.1353, Accuracy: 4236/10000 (42.36%)\n"
          ]
        }
      ]
    },
    {
      "cell_type": "markdown",
      "source": [
        "# Adversially Training Renset18 with l2 regularization\n",
        "For this pupose I will be using MNIST as due to heavy computation problem in cifar 10 "
      ],
      "metadata": {
        "id": "z2uNJJZj7re4"
      }
    },
    {
      "cell_type": "markdown",
      "source": [
        "## Getting the MNIST data"
      ],
      "metadata": {
        "id": "DN8WQ59m_OiI"
      }
    },
    {
      "cell_type": "code",
      "source": [
        "#making the transform for our dataset \n",
        "transform=transforms.Compose([\n",
        "        transforms.RandomHorizontalFlip(),\n",
        "        transforms.ToTensor()])"
      ],
      "metadata": {
        "id": "_VRRfgk7_RKc"
      },
      "execution_count": 2,
      "outputs": []
    },
    {
      "cell_type": "code",
      "source": [
        "train_dataset = MNIST(root = 'data/', download = True, transform = transform)\n",
        "test_dataset = MNIST(root = 'data/', train = False, transform = transform)"
      ],
      "metadata": {
        "colab": {
          "base_uri": "https://localhost:8080/",
          "height": 423,
          "referenced_widgets": [
            "b4d7a158b0524e77b5d0979b42493f95",
            "03dc7b82cf9b4e7fb5bfd6b32ac7ba62",
            "cb2b2c6c118844c68f002b166f653281",
            "2b0fded9e0ca4dc0bbbccf011cc11558",
            "99600245504849bca96820210eb40570",
            "899b8890009942b280a6e36b5c8cc730",
            "d64e8a3fe13e45eea0d43c65720ebd35",
            "079fbef7cda74c6b8f84a99daba031fc",
            "ab6e3a5af67641d5983157f5935fa4d9",
            "e7cca10b5a2946dd94f671bcfb1699ab",
            "e80aef2749fd4f118d815cbc068f5b7f",
            "d37fc75da8014991be19cbe7d658aa61",
            "204afd1775df414b8c0549f3ec4a6e15",
            "d57983dd7a614697a1f761c75b419710",
            "9182b0c3082244b3992030b8f746f881",
            "5389cea065174acab3129a0dc264ac2b",
            "f7cca2518a9a4fbba2113a4b2f3b0527",
            "f659a656a6f2492d852d17335c715567",
            "12a31a3f6e4048e09328a54834878c26",
            "378fc7a1c5764f368f51ff6b5322fe04",
            "8c9672f78ff94f3a80b16ccebb8bcb0b",
            "6758644fba174402b57d687f92251390",
            "366913499634442bbd0b755868bad595",
            "090e8a39cc6d488897b3c94f206a4b6f",
            "a2b53a06c5d44479bbcd1f3c57b248b7",
            "1f770db9ee204f5c9d12e667bef14fa6",
            "c832304f6a2f46678b7bc503c27dba64",
            "1c57b83a0e184017b0debe14b14c1935",
            "141f4ad2adb04be6b05a4d78cbfe0994",
            "ee89f422cebd443980eaea5654ff6a64",
            "92908785b1744376883707958d716e6e",
            "ed2f87b79330424182709c3a33e921a2",
            "95cddf7a3021416c9c9137c0fd3fba9e",
            "74027c1a73e04ebb88808d892e4175ef",
            "03e0767d638046eca979fe9c5ff0aef2",
            "a90c2800b345462a9aff0a6daa27ba69",
            "4811d5ad5173404fae9382bcae0d3983",
            "f4d7778570e84c0d89bcf85b9a55edab",
            "00ba3d56a996480e9a58bc5b44f23855",
            "d0cf176b6e5d4944be168f8517f9b9fd",
            "079019eec26f43488c1647cdecb80f8f",
            "ba6b40d96f7144e3a03d7e9dfccc6c46",
            "5df069156d8b4ba39796ea23d67304b8",
            "8e8c417097454feea336246eb0dcbac2"
          ]
        },
        "id": "dbY62qns_ZIm",
        "outputId": "f3d2587c-b325-4ed8-e96f-c24088fdf99c"
      },
      "execution_count": 3,
      "outputs": [
        {
          "output_type": "stream",
          "name": "stdout",
          "text": [
            "Downloading http://yann.lecun.com/exdb/mnist/train-images-idx3-ubyte.gz\n",
            "Downloading http://yann.lecun.com/exdb/mnist/train-images-idx3-ubyte.gz to data/MNIST/raw/train-images-idx3-ubyte.gz\n"
          ]
        },
        {
          "output_type": "display_data",
          "data": {
            "text/plain": [
              "  0%|          | 0/9912422 [00:00<?, ?it/s]"
            ],
            "application/vnd.jupyter.widget-view+json": {
              "version_major": 2,
              "version_minor": 0,
              "model_id": "b4d7a158b0524e77b5d0979b42493f95"
            }
          },
          "metadata": {}
        },
        {
          "output_type": "stream",
          "name": "stdout",
          "text": [
            "Extracting data/MNIST/raw/train-images-idx3-ubyte.gz to data/MNIST/raw\n",
            "\n",
            "Downloading http://yann.lecun.com/exdb/mnist/train-labels-idx1-ubyte.gz\n",
            "Downloading http://yann.lecun.com/exdb/mnist/train-labels-idx1-ubyte.gz to data/MNIST/raw/train-labels-idx1-ubyte.gz\n"
          ]
        },
        {
          "output_type": "display_data",
          "data": {
            "text/plain": [
              "  0%|          | 0/28881 [00:00<?, ?it/s]"
            ],
            "application/vnd.jupyter.widget-view+json": {
              "version_major": 2,
              "version_minor": 0,
              "model_id": "d37fc75da8014991be19cbe7d658aa61"
            }
          },
          "metadata": {}
        },
        {
          "output_type": "stream",
          "name": "stdout",
          "text": [
            "Extracting data/MNIST/raw/train-labels-idx1-ubyte.gz to data/MNIST/raw\n",
            "\n",
            "Downloading http://yann.lecun.com/exdb/mnist/t10k-images-idx3-ubyte.gz\n",
            "Downloading http://yann.lecun.com/exdb/mnist/t10k-images-idx3-ubyte.gz to data/MNIST/raw/t10k-images-idx3-ubyte.gz\n"
          ]
        },
        {
          "output_type": "display_data",
          "data": {
            "text/plain": [
              "  0%|          | 0/1648877 [00:00<?, ?it/s]"
            ],
            "application/vnd.jupyter.widget-view+json": {
              "version_major": 2,
              "version_minor": 0,
              "model_id": "366913499634442bbd0b755868bad595"
            }
          },
          "metadata": {}
        },
        {
          "output_type": "stream",
          "name": "stdout",
          "text": [
            "Extracting data/MNIST/raw/t10k-images-idx3-ubyte.gz to data/MNIST/raw\n",
            "\n",
            "Downloading http://yann.lecun.com/exdb/mnist/t10k-labels-idx1-ubyte.gz\n",
            "Downloading http://yann.lecun.com/exdb/mnist/t10k-labels-idx1-ubyte.gz to data/MNIST/raw/t10k-labels-idx1-ubyte.gz\n"
          ]
        },
        {
          "output_type": "display_data",
          "data": {
            "text/plain": [
              "  0%|          | 0/4542 [00:00<?, ?it/s]"
            ],
            "application/vnd.jupyter.widget-view+json": {
              "version_major": 2,
              "version_minor": 0,
              "model_id": "74027c1a73e04ebb88808d892e4175ef"
            }
          },
          "metadata": {}
        },
        {
          "output_type": "stream",
          "name": "stdout",
          "text": [
            "Extracting data/MNIST/raw/t10k-labels-idx1-ubyte.gz to data/MNIST/raw\n",
            "\n"
          ]
        }
      ]
    },
    {
      "cell_type": "code",
      "source": [
        "train_dataloader = torch.utils.data.DataLoader(train_dataset,\n",
        "                                         batch_size=8, \n",
        "                                         drop_last=True)\n",
        "\n",
        "test_dataloader = torch.utils.data.DataLoader(test_dataset,\n",
        "                                         batch_size=8, \n",
        "                                         drop_last=True)"
      ],
      "metadata": {
        "id": "IO0YgpMH_f6Y"
      },
      "execution_count": 4,
      "outputs": []
    },
    {
      "cell_type": "code",
      "source": [
        "#making the datalaoder dictionary \n",
        "dataloaders_dict = {\"train\": train_dataloader, \"val\": test_dataloader}"
      ],
      "metadata": {
        "id": "8qGJ-IXS_kO0"
      },
      "execution_count": 5,
      "outputs": []
    },
    {
      "cell_type": "markdown",
      "source": [
        "## Getting the Resnet18 model"
      ],
      "metadata": {
        "id": "acCsbID67-9i"
      }
    },
    {
      "cell_type": "code",
      "source": [
        "resnet18 = models.resnet18(pretrained=True)\n",
        "num_ftrs = resnet18.fc.in_features"
      ],
      "metadata": {
        "id": "HPscr7Ib2JPe"
      },
      "execution_count": 14,
      "outputs": []
    },
    {
      "cell_type": "code",
      "source": [
        "print(resnet18)"
      ],
      "metadata": {
        "colab": {
          "base_uri": "https://localhost:8080/"
        },
        "id": "hnWpKvwN8CyD",
        "outputId": "e7f5f425-f365-4850-aafb-3007ca661be7"
      },
      "execution_count": 15,
      "outputs": [
        {
          "output_type": "stream",
          "name": "stdout",
          "text": [
            "ResNet(\n",
            "  (conv1): Conv2d(3, 64, kernel_size=(7, 7), stride=(2, 2), padding=(3, 3), bias=False)\n",
            "  (bn1): BatchNorm2d(64, eps=1e-05, momentum=0.1, affine=True, track_running_stats=True)\n",
            "  (relu): ReLU(inplace=True)\n",
            "  (maxpool): MaxPool2d(kernel_size=3, stride=2, padding=1, dilation=1, ceil_mode=False)\n",
            "  (layer1): Sequential(\n",
            "    (0): BasicBlock(\n",
            "      (conv1): Conv2d(64, 64, kernel_size=(3, 3), stride=(1, 1), padding=(1, 1), bias=False)\n",
            "      (bn1): BatchNorm2d(64, eps=1e-05, momentum=0.1, affine=True, track_running_stats=True)\n",
            "      (relu): ReLU(inplace=True)\n",
            "      (conv2): Conv2d(64, 64, kernel_size=(3, 3), stride=(1, 1), padding=(1, 1), bias=False)\n",
            "      (bn2): BatchNorm2d(64, eps=1e-05, momentum=0.1, affine=True, track_running_stats=True)\n",
            "    )\n",
            "    (1): BasicBlock(\n",
            "      (conv1): Conv2d(64, 64, kernel_size=(3, 3), stride=(1, 1), padding=(1, 1), bias=False)\n",
            "      (bn1): BatchNorm2d(64, eps=1e-05, momentum=0.1, affine=True, track_running_stats=True)\n",
            "      (relu): ReLU(inplace=True)\n",
            "      (conv2): Conv2d(64, 64, kernel_size=(3, 3), stride=(1, 1), padding=(1, 1), bias=False)\n",
            "      (bn2): BatchNorm2d(64, eps=1e-05, momentum=0.1, affine=True, track_running_stats=True)\n",
            "    )\n",
            "  )\n",
            "  (layer2): Sequential(\n",
            "    (0): BasicBlock(\n",
            "      (conv1): Conv2d(64, 128, kernel_size=(3, 3), stride=(2, 2), padding=(1, 1), bias=False)\n",
            "      (bn1): BatchNorm2d(128, eps=1e-05, momentum=0.1, affine=True, track_running_stats=True)\n",
            "      (relu): ReLU(inplace=True)\n",
            "      (conv2): Conv2d(128, 128, kernel_size=(3, 3), stride=(1, 1), padding=(1, 1), bias=False)\n",
            "      (bn2): BatchNorm2d(128, eps=1e-05, momentum=0.1, affine=True, track_running_stats=True)\n",
            "      (downsample): Sequential(\n",
            "        (0): Conv2d(64, 128, kernel_size=(1, 1), stride=(2, 2), bias=False)\n",
            "        (1): BatchNorm2d(128, eps=1e-05, momentum=0.1, affine=True, track_running_stats=True)\n",
            "      )\n",
            "    )\n",
            "    (1): BasicBlock(\n",
            "      (conv1): Conv2d(128, 128, kernel_size=(3, 3), stride=(1, 1), padding=(1, 1), bias=False)\n",
            "      (bn1): BatchNorm2d(128, eps=1e-05, momentum=0.1, affine=True, track_running_stats=True)\n",
            "      (relu): ReLU(inplace=True)\n",
            "      (conv2): Conv2d(128, 128, kernel_size=(3, 3), stride=(1, 1), padding=(1, 1), bias=False)\n",
            "      (bn2): BatchNorm2d(128, eps=1e-05, momentum=0.1, affine=True, track_running_stats=True)\n",
            "    )\n",
            "  )\n",
            "  (layer3): Sequential(\n",
            "    (0): BasicBlock(\n",
            "      (conv1): Conv2d(128, 256, kernel_size=(3, 3), stride=(2, 2), padding=(1, 1), bias=False)\n",
            "      (bn1): BatchNorm2d(256, eps=1e-05, momentum=0.1, affine=True, track_running_stats=True)\n",
            "      (relu): ReLU(inplace=True)\n",
            "      (conv2): Conv2d(256, 256, kernel_size=(3, 3), stride=(1, 1), padding=(1, 1), bias=False)\n",
            "      (bn2): BatchNorm2d(256, eps=1e-05, momentum=0.1, affine=True, track_running_stats=True)\n",
            "      (downsample): Sequential(\n",
            "        (0): Conv2d(128, 256, kernel_size=(1, 1), stride=(2, 2), bias=False)\n",
            "        (1): BatchNorm2d(256, eps=1e-05, momentum=0.1, affine=True, track_running_stats=True)\n",
            "      )\n",
            "    )\n",
            "    (1): BasicBlock(\n",
            "      (conv1): Conv2d(256, 256, kernel_size=(3, 3), stride=(1, 1), padding=(1, 1), bias=False)\n",
            "      (bn1): BatchNorm2d(256, eps=1e-05, momentum=0.1, affine=True, track_running_stats=True)\n",
            "      (relu): ReLU(inplace=True)\n",
            "      (conv2): Conv2d(256, 256, kernel_size=(3, 3), stride=(1, 1), padding=(1, 1), bias=False)\n",
            "      (bn2): BatchNorm2d(256, eps=1e-05, momentum=0.1, affine=True, track_running_stats=True)\n",
            "    )\n",
            "  )\n",
            "  (layer4): Sequential(\n",
            "    (0): BasicBlock(\n",
            "      (conv1): Conv2d(256, 512, kernel_size=(3, 3), stride=(2, 2), padding=(1, 1), bias=False)\n",
            "      (bn1): BatchNorm2d(512, eps=1e-05, momentum=0.1, affine=True, track_running_stats=True)\n",
            "      (relu): ReLU(inplace=True)\n",
            "      (conv2): Conv2d(512, 512, kernel_size=(3, 3), stride=(1, 1), padding=(1, 1), bias=False)\n",
            "      (bn2): BatchNorm2d(512, eps=1e-05, momentum=0.1, affine=True, track_running_stats=True)\n",
            "      (downsample): Sequential(\n",
            "        (0): Conv2d(256, 512, kernel_size=(1, 1), stride=(2, 2), bias=False)\n",
            "        (1): BatchNorm2d(512, eps=1e-05, momentum=0.1, affine=True, track_running_stats=True)\n",
            "      )\n",
            "    )\n",
            "    (1): BasicBlock(\n",
            "      (conv1): Conv2d(512, 512, kernel_size=(3, 3), stride=(1, 1), padding=(1, 1), bias=False)\n",
            "      (bn1): BatchNorm2d(512, eps=1e-05, momentum=0.1, affine=True, track_running_stats=True)\n",
            "      (relu): ReLU(inplace=True)\n",
            "      (conv2): Conv2d(512, 512, kernel_size=(3, 3), stride=(1, 1), padding=(1, 1), bias=False)\n",
            "      (bn2): BatchNorm2d(512, eps=1e-05, momentum=0.1, affine=True, track_running_stats=True)\n",
            "    )\n",
            "  )\n",
            "  (avgpool): AdaptiveAvgPool2d(output_size=(1, 1))\n",
            "  (fc): Linear(in_features=512, out_features=1000, bias=True)\n",
            ")\n"
          ]
        }
      ]
    },
    {
      "cell_type": "code",
      "source": [
        "resnet18.conv1 = nn.Conv2d(1, 64, kernel_size=(7, 7), stride=(2, 2), padding=(3, 3), bias=False) "
      ],
      "metadata": {
        "id": "5jN0Mg_kAOTd"
      },
      "execution_count": 19,
      "outputs": []
    },
    {
      "cell_type": "code",
      "source": [
        "#now we have the output features equal to 10 so we need to make output layers to be 10 \n",
        "resnet18.fc = nn.Linear(num_ftrs, 10)"
      ],
      "metadata": {
        "id": "hvRN5Kfs8E2m"
      },
      "execution_count": 20,
      "outputs": []
    },
    {
      "cell_type": "markdown",
      "source": [
        "## Adversially Training resnet18 "
      ],
      "metadata": {
        "id": "9xhHioLe8JWD"
      }
    },
    {
      "cell_type": "code",
      "source": [
        "criterion1=torch.nn.CrossEntropyLoss()\n",
        "criterion2=torch.nn.CrossEntropyLoss()\n",
        "learning_rate=0.01 \n",
        "optimizer_5 = torch.optim.SGD(resnet18.parameters(), lr=learning_rate) \n",
        "exp_lr_scheduler_5 = optim.lr_scheduler.StepLR(optimizer_5, step_size=7, gamma=0.1)"
      ],
      "metadata": {
        "id": "O4cpcVFk8HZ1"
      },
      "execution_count": 21,
      "outputs": []
    },
    {
      "cell_type": "code",
      "source": [
        "adeversial_smooth_lr_model_1 = train_adversial_smooth_model(resnet18, criterion1,criterion2, optimizer_5, exp_lr_scheduler_5,\n",
        "                        num_epochs=10, device='cuda',epsilon=0.01)"
      ],
      "metadata": {
        "colab": {
          "base_uri": "https://localhost:8080/"
        },
        "id": "2xNGN2xb8YWG",
        "outputId": "9c82ecfc-9017-4420-ae67-b98c9af9d2a7"
      },
      "execution_count": 29,
      "outputs": [
        {
          "output_type": "stream",
          "name": "stdout",
          "text": [
            "Epoch 0/9\n",
            "----------\n",
            "train Loss: 1.0017 Acc: 0.8448\n",
            "val Loss: 0.0646 Acc: 0.9435\n",
            "\n",
            "Epoch 1/9\n",
            "----------\n",
            "train Loss: 0.2927 Acc: 0.9541\n",
            "val Loss: 0.0118 Acc: 0.9697\n",
            "\n",
            "Epoch 2/9\n",
            "----------\n",
            "train Loss: 0.1955 Acc: 0.9688\n",
            "val Loss: 0.0073 Acc: 0.9746\n",
            "\n",
            "Epoch 3/9\n",
            "----------\n",
            "train Loss: 0.1448 Acc: 0.9760\n",
            "val Loss: 0.0021 Acc: 0.9383\n",
            "\n",
            "Epoch 4/9\n",
            "----------\n",
            "\n"
          ]
        }
      ]
    },
    {
      "cell_type": "markdown",
      "source": [
        "The output was taking for ever so I stopped it beause I already has a good accuracy of 0.97 on test dataset "
      ],
      "metadata": {
        "id": "K3oN2kAdRjRD"
      }
    },
    {
      "cell_type": "markdown",
      "source": [
        "## testing it on adverisal attacks"
      ],
      "metadata": {
        "id": "IqgbGP6LRQ0u"
      }
    },
    {
      "cell_type": "code",
      "source": [
        "\n",
        "test(epsilon=0.2,alpha=0.05,num_iter=10,model=resnet18, test_loader=test_dataloader,device='cuda')"
      ],
      "metadata": {
        "colab": {
          "base_uri": "https://localhost:8080/"
        },
        "id": "z5JNhBtn8glz",
        "outputId": "64ac908a-c06e-4e2b-88fe-86ca0eeb505b"
      },
      "execution_count": 34,
      "outputs": [
        {
          "output_type": "stream",
          "name": "stdout",
          "text": [
            "Test set: Average loss: 0.765, Accuracy: 9236/10000 (92.36%)\n"
          ]
        }
      ]
    },
    {
      "cell_type": "code",
      "source": [
        "test(epsilon=0.3,alpha=0.05,num_iter=10,model=resnet18, test_loader=test_dataloader,device='cuda')"
      ],
      "metadata": {
        "colab": {
          "base_uri": "https://localhost:8080/"
        },
        "id": "oeIqBRC6Rb37",
        "outputId": "0e5010e1-9e3a-4adf-c772-e91fe946d6f6"
      },
      "execution_count": 32,
      "outputs": [
        {
          "output_type": "stream",
          "name": "stdout",
          "text": [
            "Test set: Average loss: 0.821, Accuracy: 8978/10000 (89.78%)\n"
          ]
        }
      ]
    },
    {
      "cell_type": "code",
      "source": [],
      "metadata": {
        "id": "Oty3Mv_9SYcR"
      },
      "execution_count": null,
      "outputs": []
    }
  ]
}